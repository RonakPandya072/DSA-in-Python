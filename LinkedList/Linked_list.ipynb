{
  "nbformat": 4,
  "nbformat_minor": 0,
  "metadata": {
    "colab": {
      "name": "Linked list.ipynb",
      "provenance": [],
      "authorship_tag": "ABX9TyOY/pDvZ1mZ1aCq50+TdHR/",
      "include_colab_link": true
    },
    "kernelspec": {
      "name": "python3",
      "display_name": "Python 3"
    },
    "language_info": {
      "name": "python"
    }
  },
  "cells": [
    {
      "cell_type": "markdown",
      "metadata": {
        "id": "view-in-github",
        "colab_type": "text"
      },
      "source": [
        "<a href=\"https://colab.research.google.com/github/RonakPandya072/DSA-in-Python/blob/main/LinkedList/Linked_list.ipynb\" target=\"_parent\"><img src=\"https://colab.research.google.com/assets/colab-badge.svg\" alt=\"Open In Colab\"/></a>"
      ]
    },
    {
      "cell_type": "code",
      "source": [
        "class Node:\n",
        "  def __init__(self,data):\n",
        "    self.data = data\n",
        "    self.next = None\n",
        "\n",
        "def Print(head):\n",
        "  temp = head\n",
        "  while temp:\n",
        "    print(temp.data,end=\"-->\")\n",
        "    temp = temp.next\n",
        "  print('None')"
      ],
      "metadata": {
        "id": "vcxiYoAaems2"
      },
      "execution_count": 23,
      "outputs": []
    },
    {
      "cell_type": "markdown",
      "source": [
        "Q.1 **Remove duplicate from the linked list**"
      ],
      "metadata": {
        "id": "7S1cIsfZeffp"
      }
    },
    {
      "cell_type": "code",
      "source": [
        "def RemoveDuplicate(head):\n",
        "  current = head\n",
        "  while current.next:\n",
        "    if current.data == current.next.data:\n",
        "      #print(f\"before{current.data}\")\n",
        "      nexttonext = current.next.next\n",
        "      current.next = nexttonext\n",
        "      #print(f\"after{current.data}\")\n",
        "    else:\n",
        "      current = current.next\n",
        "  return head"
      ],
      "metadata": {
        "id": "cl1g9h5KhIgx"
      },
      "execution_count": null,
      "outputs": []
    },
    {
      "cell_type": "code",
      "source": [
        "var1 = Node(1)\n",
        "var2 = Node(2)\n",
        "var3 = Node(2)\n",
        "var4 = Node(2)\n",
        "var5 = Node(3)\n",
        "var1.next = var2\n",
        "var2.next = var3\n",
        "var3.next = var4\n",
        "var4.next = var5\n",
        "head = var1\n",
        "RemoveDuplicate(head)\n",
        "Print(head)"
      ],
      "metadata": {
        "colab": {
          "base_uri": "https://localhost:8080/"
        },
        "id": "47oxzXbFfygH",
        "outputId": "2564b46a-60d1-42c0-9473-61f5d25bacf9"
      },
      "execution_count": null,
      "outputs": [
        {
          "output_type": "stream",
          "name": "stdout",
          "text": [
            "1-->2-->3-->"
          ]
        }
      ]
    },
    {
      "cell_type": "markdown",
      "source": [
        "Q.2 **Split given linked list into two lists where each list containing alternating elements from it**"
      ],
      "metadata": {
        "id": "Bmn9a9eJkjSN"
      }
    },
    {
      "cell_type": "code",
      "source": [
        "def splitlist(head):\n",
        "  count = 0\n",
        "  A = B = None\n",
        "  temp = head\n",
        "  firsttimeA = firsttimeB = 1\n",
        "  while temp:\n",
        "    if count%2 == 0:\n",
        "      if firsttimeA == 1:\n",
        "        firsttimeA = 0\n",
        "        A = temp\n",
        "        tempA = A\n",
        "      else:\n",
        "        tempA.next = temp\n",
        "        tempA = temp\n",
        "    else:\n",
        "      if firsttimeB == 1:\n",
        "        firsttimeB=0\n",
        "        B = temp\n",
        "        tempB = B\n",
        "      else:\n",
        "        tempB.next = temp\n",
        "        tempB = temp\n",
        "      \n",
        "    temp = temp.next\n",
        "    count+=1\n",
        "\n",
        "  return (A,B)"
      ],
      "metadata": {
        "id": "NIAZ-7opkhyu"
      },
      "execution_count": 9,
      "outputs": []
    },
    {
      "cell_type": "code",
      "source": [
        "var1 = Node(1)\n",
        "var2 = Node(2)\n",
        "var3 = Node(3)\n",
        "var4 = Node(4)\n",
        "var5 = Node(5)\n",
        "var1.next = var2\n",
        "var2.next = var3\n",
        "var3.next = var4\n",
        "var4.next = var5\n",
        "head = var1\n",
        "Print(splitlist(head)[0])"
      ],
      "metadata": {
        "colab": {
          "base_uri": "https://localhost:8080/"
        },
        "id": "WSnbnatVgN9R",
        "outputId": "22d488b8-7d5b-4ec6-8d6e-c7de1e3eb38e"
      },
      "execution_count": 10,
      "outputs": [
        {
          "output_type": "stream",
          "name": "stdout",
          "text": [
            "1-->3-->5-->None\n"
          ]
        }
      ]
    },
    {
      "cell_type": "markdown",
      "source": [
        "Q.3 **Merge Sort Algorithm for Singly Linked List** (MIMP)"
      ],
      "metadata": {
        "id": "CJaOgWnEcysV"
      }
    },
    {
      "cell_type": "code",
      "source": [
        "var1 = Node(1)\n",
        "var2 = Node(2)\n",
        "var3 = Node(3)\n",
        "var4 = Node(5)\n",
        "var5 = Node(4)\n",
        "var1.next = var2\n",
        "var2.next = var3\n",
        "var3.next = var4\n",
        "var4.next = var5\n",
        "head = var1"
      ],
      "metadata": {
        "id": "TTyGBipaoFTp"
      },
      "execution_count": 58,
      "outputs": []
    },
    {
      "cell_type": "code",
      "source": [
        "def sortedMerge(a, b):\n",
        " \n",
        "    # base cases\n",
        "    if a is None:\n",
        "        return b\n",
        "    elif b is None:\n",
        "        return a\n",
        " \n",
        "    # pick either `a` or `b`, and recur\n",
        "    if a.data <= b.data:\n",
        "        result = a\n",
        "        result.next = sortedMerge(a.next, b)\n",
        "    else:\n",
        "        result = b\n",
        "        result.next = sortedMerge(a, b.next)\n",
        " \n",
        "    return result\n",
        " \n",
        " \n",
        "'''\n",
        "    Split the given list's nodes into front and back halves,\n",
        "    If the length is odd, the extra node should go in the front list.\n",
        "    It uses the fast/slow pointer strategy\n",
        "'''\n",
        " \n",
        " \n",
        "def frontBackSplit(source):\n",
        " \n",
        "    # if the length is less than 2, handle it separately\n",
        "    if source is None or source.next is None:\n",
        "        return source, None\n",
        " \n",
        "    (slow, fast) = (source, source.next)\n",
        " \n",
        "    # advance `fast` two nodes, and advance `slow` one node\n",
        "    while fast:\n",
        " \n",
        "        fast = fast.next\n",
        "        if fast:\n",
        "            slow = slow.next\n",
        "            fast = fast.next\n",
        " \n",
        "    # `slow` is before the midpoint of the list, so split it in two\n",
        "    # at that point.\n",
        "    ret = (source, slow.next)\n",
        "    slow.next = None\n",
        " \n",
        "    return ret\n",
        " \n",
        " \n",
        "# Sort a given linked list using the merge sort algorithm\n",
        "def mergesort(head):\n",
        " \n",
        "    # base case — length 0 or 1\n",
        "    if head is None or head.next is None:\n",
        "        return head\n",
        " \n",
        "    # split `head` into `a` and `b` sublists\n",
        "    front, back = frontBackSplit(head)\n",
        " \n",
        "    # recursively sort the sublists\n",
        "    front = mergesort(front)\n",
        "    back = mergesort(back)\n",
        " \n",
        "    # answer = merge the two sorted lists\n",
        "    return sortedMerge(front, back)"
      ],
      "metadata": {
        "id": "03uHeKt9oU5C"
      },
      "execution_count": 56,
      "outputs": []
    },
    {
      "cell_type": "code",
      "source": [
        "Print(mergesort(head))"
      ],
      "metadata": {
        "colab": {
          "base_uri": "https://localhost:8080/"
        },
        "id": "o4YrdgKjuRkz",
        "outputId": "a3a5d33b-427f-4bfb-f4ed-29bbd3060f2d"
      },
      "execution_count": 59,
      "outputs": [
        {
          "output_type": "stream",
          "name": "stdout",
          "text": [
            "1-->2-->3-->4-->5-->None\n"
          ]
        }
      ]
    },
    {
      "cell_type": "markdown",
      "source": [
        "Q.4 **Merge two sorted linked lists into one**"
      ],
      "metadata": {
        "id": "S60JO2WM4wuv"
      }
    },
    {
      "cell_type": "code",
      "source": [
        "def addSortedlist(a,b):\n",
        "  if a is None:\n",
        "    return b\n",
        "  if b is None:\n",
        "    return a\n",
        "  else:\n",
        "    if a.data < b.data:\n",
        "      result = a\n",
        "      result.next = addSortedlist(a.next,b)\n",
        "    else:\n",
        "      result = b\n",
        "      result.next = addSortedlist(a,b.next)\n",
        "  return result"
      ],
      "metadata": {
        "id": "FxiZ40iXub62"
      },
      "execution_count": 60,
      "outputs": []
    },
    {
      "cell_type": "code",
      "source": [
        "var1 = Node(1)\n",
        "var2 = Node(2)\n",
        "var3 = Node(3)\n",
        "var4 = Node(5)\n",
        "var5 = Node(4)\n",
        "var1.next = var4\n",
        "var2.next = var3\n",
        "var4.next = var5\n",
        "head1 = var1\n",
        "head2 = var2\n",
        "Print(addSortedlist(head1,head2))"
      ],
      "metadata": {
        "colab": {
          "base_uri": "https://localhost:8080/"
        },
        "id": "Yc5P-uJ35bhO",
        "outputId": "bf475a0b-a644-4159-ff7d-b7cf25971cfb"
      },
      "execution_count": 61,
      "outputs": [
        {
          "output_type": "stream",
          "name": "stdout",
          "text": [
            "1-->2-->3-->5-->4-->None\n"
          ]
        }
      ]
    },
    {
      "cell_type": "markdown",
      "source": [
        "Q.5 **Intersection of two given sorted linked lists**"
      ],
      "metadata": {
        "id": "sgRsxxz-53L8"
      }
    },
    {
      "cell_type": "code",
      "source": [
        "def intersection(a,b):\n",
        "  result = None\n",
        "  current = None\n",
        "  while a and b:\n",
        "    if a.data == b.data:\n",
        "      if result is None:\n",
        "        result = a\n",
        "        current = a\n",
        "      else:\n",
        "        current.next = a\n",
        "        current = a\n",
        "      a = a.next\n",
        "      b = b.next\n",
        "    \n",
        "    elif a.data < b.data:\n",
        "      a = a.next\n",
        "    else:\n",
        "      b = b.next\n",
        "\n",
        "  return result   "
      ],
      "metadata": {
        "id": "kwk13cmV5xml"
      },
      "execution_count": 83,
      "outputs": []
    },
    {
      "cell_type": "code",
      "source": [
        "\n",
        "var1 = Node(1)\n",
        "var2 = Node(2)\n",
        "var3 = Node(3)\n",
        "var4 = Node(4)\n",
        "var5 = Node(5)\n",
        "var6 = Node(2)\n",
        "var7 = Node(3)\n",
        "var1.next = var2\n",
        "var2.next = var3\n",
        "var3.next = var4\n",
        "var4.next = var5\n",
        "var6.next = var7\n",
        "head1 = var1\n",
        "head2 = var6\n",
        "Print(intersection(head1,head2))"
      ],
      "metadata": {
        "colab": {
          "base_uri": "https://localhost:8080/"
        },
        "id": "XayZtk9H8mEB",
        "outputId": "ce07518f-dbfe-4da8-a298-3703d50b352a"
      },
      "execution_count": 84,
      "outputs": [
        {
          "output_type": "stream",
          "name": "stdout",
          "text": [
            "2-->3-->4-->5-->None\n"
          ]
        }
      ]
    },
    {
      "cell_type": "code",
      "source": [
        "m"
      ],
      "metadata": {
        "id": "QjlgWUY79A83"
      },
      "execution_count": null,
      "outputs": []
    }
  ]
}