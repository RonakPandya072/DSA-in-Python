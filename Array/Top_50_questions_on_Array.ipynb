{
  "nbformat": 4,
  "nbformat_minor": 0,
  "metadata": {
    "colab": {
      "name": "Top 50 questions on Array.ipynb",
      "provenance": [],
      "collapsed_sections": [],
      "toc_visible": true,
      "authorship_tag": "ABX9TyP9doIRl60DGtYumaHXC4Pr",
      "include_colab_link": true
    },
    "kernelspec": {
      "name": "python3",
      "display_name": "Python 3"
    },
    "language_info": {
      "name": "python"
    }
  },
  "cells": [
    {
      "cell_type": "markdown",
      "metadata": {
        "id": "view-in-github",
        "colab_type": "text"
      },
      "source": [
        "<a href=\"https://colab.research.google.com/github/RonakPandya072/DSA-in-Python/blob/main/Array/Top_50_questions_on_Array.ipynb\" target=\"_parent\"><img src=\"https://colab.research.google.com/assets/colab-badge.svg\" alt=\"Open In Colab\"/></a>"
      ]
    },
    {
      "cell_type": "markdown",
      "source": [
        "# Basic Problem - Level 1"
      ],
      "metadata": {
        "id": "7f4PAa7e389-"
      }
    },
    {
      "cell_type": "markdown",
      "source": [
        "Q.1 **Peak element**\n",
        "An element is called a peak element if its value is not smaller than the value of its adjacent elements(if they exists).\n",
        "Given an array arr[] of size N, find the index of any one of its peak elements.\n",
        "Note: The generated output will always be 1 if the index that you return is correct. Otherwise output will be 0. \n",
        "\n",
        "Link:https://practice.geeksforgeeks.org/problems/peak-element/1#\n"
      ],
      "metadata": {
        "id": "Q2zKECfvybMz"
      }
    },
    {
      "cell_type": "code",
      "source": [
        "'''def peakElement(arr, n):\n",
        "        return arr.index(max(arr))'''\n",
        "\n",
        "def peakElement(arr,n):\n",
        "  peak = 0\n",
        "  for i in range(n-1):\n",
        "    if arr[i]<arr[i+1]:\n",
        "      peak+=1\n",
        "  return peak"
      ],
      "metadata": {
        "id": "1AYw5K08ykLo"
      },
      "execution_count": 10,
      "outputs": []
    },
    {
      "cell_type": "code",
      "source": [
        "peakElement([1,2,3],3)"
      ],
      "metadata": {
        "colab": {
          "base_uri": "https://localhost:8080/"
        },
        "id": "9DAizfABypRJ",
        "outputId": "5e229806-1cbf-47ff-ddca-fb0078313c5d"
      },
      "execution_count": 11,
      "outputs": [
        {
          "output_type": "execute_result",
          "data": {
            "text/plain": [
              "2"
            ]
          },
          "metadata": {},
          "execution_count": 11
        }
      ]
    },
    {
      "cell_type": "markdown",
      "source": [
        "Q.2 **Find minimum and maximum element in an array**\n",
        "\n",
        "Given an array A of size N of integers. Your task is to find the minimum and maximum elements in the array.\n",
        "\n",
        "Link: https://practice.geeksforgeeks.org/problems/find-minimum-and-maximum-element-in-an-array4428/1"
      ],
      "metadata": {
        "id": "YvFZ9FfBwA4x"
      }
    },
    {
      "cell_type": "code",
      "source": [
        "def getMinMax(a, n):\n",
        "    max = 0\n",
        "    min = a[0]\n",
        "    for i in range(n):\n",
        "        if a[i] > max:\n",
        "            max = a[i]\n",
        "        if a[i] < min:\n",
        "            min = a[i]\n",
        "    print(\"min =\", min,\"max =\",max)\n",
        "    "
      ],
      "metadata": {
        "id": "7XBTsxo9xTJa"
      },
      "execution_count": 5,
      "outputs": []
    },
    {
      "cell_type": "code",
      "source": [
        "A = [3, 2, 1, 56, 10000, 167]\n",
        "getMinMax(A,len(A))"
      ],
      "metadata": {
        "colab": {
          "base_uri": "https://localhost:8080/"
        },
        "id": "_zN1FScuxUnx",
        "outputId": "9dc415d0-d87d-4b38-e305-20284a966d1b"
      },
      "execution_count": 6,
      "outputs": [
        {
          "output_type": "stream",
          "name": "stdout",
          "text": [
            "min = 1 max = 10000\n"
          ]
        }
      ]
    },
    {
      "cell_type": "markdown",
      "source": [
        "Q.3 **Reverse a String**\n",
        "\n",
        "\n",
        "You are given a string s. You need to reverse the string.\n",
        "\n",
        "link: https://practice.geeksforgeeks.org/problems/reverse-a-string/1"
      ],
      "metadata": {
        "id": "yTul2QjqzcYp"
      }
    },
    {
      "cell_type": "code",
      "source": [
        "def reverseWord(s):\n",
        "    return s[::-1]"
      ],
      "metadata": {
        "id": "ceN1Am8-xbWe"
      },
      "execution_count": 21,
      "outputs": []
    },
    {
      "cell_type": "code",
      "source": [
        "reverseWord(\"Geeks\")"
      ],
      "metadata": {
        "colab": {
          "base_uri": "https://localhost:8080/",
          "height": 35
        },
        "id": "pqaMuQA30RUW",
        "outputId": "f391b7ab-9d89-4c92-99c1-ec02749481f5"
      },
      "execution_count": 22,
      "outputs": [
        {
          "output_type": "execute_result",
          "data": {
            "application/vnd.google.colaboratory.intrinsic+json": {
              "type": "string"
            },
            "text/plain": [
              "'skeeG'"
            ]
          },
          "metadata": {},
          "execution_count": 22
        }
      ]
    },
    {
      "cell_type": "markdown",
      "source": [
        "Q.4 **Sort The Array**\n",
        "\n",
        "Given a random set of numbers, Print them in sorted order.\n",
        "\n",
        "Link: https://practice.geeksforgeeks.org/problems/sort-the-array0055/1"
      ],
      "metadata": {
        "id": "72syt5MT1PTY"
      }
    },
    {
      "cell_type": "code",
      "source": [
        "def sortArr(arr, n): \n",
        "        #code here\n",
        "        return list(sorted(arr))"
      ],
      "metadata": {
        "id": "IHvyZe70AkNU"
      },
      "execution_count": 42,
      "outputs": []
    },
    {
      "cell_type": "code",
      "source": [
        "sortArr([5,7,2,0,8,2],6)"
      ],
      "metadata": {
        "colab": {
          "base_uri": "https://localhost:8080/"
        },
        "id": "Jldnt77KC6aO",
        "outputId": "fa76c3d3-c5e0-4d19-eca7-5f6c27ac6550"
      },
      "execution_count": 43,
      "outputs": [
        {
          "output_type": "execute_result",
          "data": {
            "text/plain": [
              "[0, 2, 2, 5, 7, 8]"
            ]
          },
          "metadata": {},
          "execution_count": 43
        }
      ]
    },
    {
      "cell_type": "markdown",
      "source": [
        "Q.5 **Kth smallest element**\n",
        "\n",
        "Given an array arr[] and an integer K where K is smaller than size of array, the task is to find the Kth smallest element in the given array. It is given that all array elements are distinct.\n",
        "\n",
        "Link: https://practice.geeksforgeeks.org/problems/kth-smallest-element5635/1"
      ],
      "metadata": {
        "id": "3qs7p7PIDNAi"
      }
    },
    {
      "cell_type": "code",
      "source": [
        "#this can be done by priority queue(heap) try using this method when you learn the concept\n",
        "def kthSmallest(arr, l, r, k):\n",
        "        '''\n",
        "        arr : given array\n",
        "        l : starting index of the array i.e 0\n",
        "        r : ending index of the array i.e size-1\n",
        "        k : find kth smallest element and return using this function\n",
        "        '''\n",
        "      #this can be done by priority queue(heap) try using this method when you learn the concept\n",
        "        arr.sort()\n",
        "        return arr[k-1]"
      ],
      "metadata": {
        "id": "3_oagXqfC_mN"
      },
      "execution_count": 44,
      "outputs": []
    },
    {
      "cell_type": "markdown",
      "source": [
        "Q.6 **Find the Frequency**\n",
        "\n",
        "Given a vector of N positive integers and an integer X. The task is to find the frequency of X in vector.\n",
        "\n",
        "Link: https://practice.geeksforgeeks.org/problems/find-the-frequency/1"
      ],
      "metadata": {
        "id": "Ohb8qvUKHkBX"
      }
    },
    {
      "cell_type": "code",
      "source": [
        "def findFrequency (arr, n, x):\n",
        "    # Your Code Here\n",
        "    frequency = 0\n",
        "    for i in range(len(arr)):\n",
        "        if arr[i] == x:\n",
        "            frequency+=1\n",
        "    return frequency"
      ],
      "metadata": {
        "id": "C16Gy5LGHeOF"
      },
      "execution_count": 45,
      "outputs": []
    },
    {
      "cell_type": "markdown",
      "source": [
        "Q.7 **Sort an array of 0s, 1s and 2s**\n",
        "\n",
        "Given an array of size N containing only 0s, 1s, and 2s; sort the array in ascending order.\n",
        "\n",
        "Link: https://practice.geeksforgeeks.org/problems/sort-an-array-of-0s-1s-and-2s4231/1"
      ],
      "metadata": {
        "id": "zImGwsmpIoEf"
      }
    },
    {
      "cell_type": "code",
      "source": [
        "def sort012(arr,n):\n",
        "        fre_0 = fre_1 = fre_2 = 0\n",
        "        for i in range(n):\n",
        "            if arr[i]==0:\n",
        "                fre_0+=1\n",
        "            if arr[i]==1:\n",
        "                fre_1+=1\n",
        "            if arr[i]==2:\n",
        "                fre_2+=1\n",
        "        for i in range(0,fre_0):\n",
        "            arr[i]=0\n",
        "        for i in range(fre_0,fre_1+fre_0):\n",
        "            arr[i]=1\n",
        "        for i in range(fre_1+fre_0, fre_1+fre_0+fre_2):\n",
        "            arr[i]=2\n",
        "        \n",
        "        return arr"
      ],
      "metadata": {
        "id": "AFa6UCctIj4m"
      },
      "execution_count": 46,
      "outputs": []
    },
    {
      "cell_type": "code",
      "source": [
        "sort012([1,0,2,0,2,1,1],7)"
      ],
      "metadata": {
        "colab": {
          "base_uri": "https://localhost:8080/"
        },
        "id": "9_l4kBmMKLCg",
        "outputId": "f2d727da-87e6-4428-c557-8783f00ceb6a"
      },
      "execution_count": 47,
      "outputs": [
        {
          "output_type": "execute_result",
          "data": {
            "text/plain": [
              "[0, 0, 1, 1, 1, 2, 2]"
            ]
          },
          "metadata": {},
          "execution_count": 47
        }
      ]
    },
    {
      "cell_type": "markdown",
      "source": [
        "Q.8 **Subarray with given sum **\n",
        "\n",
        "Given an unsorted array A of size N that contains only non-negative integers, find a continuous sub-array which adds to a given number S.\n",
        "\n",
        "Link: https://practice.geeksforgeeks.org/problems/subarray-with-given-sum-1587115621/1"
      ],
      "metadata": {
        "id": "LHcBclmUKb-5"
      }
    },
    {
      "cell_type": "code",
      "source": [
        "def subArraySum(arr, n, s):\n",
        "        sum = i = j = result =0\n",
        "        while j < n:\n",
        "            if sum < s:\n",
        "                sum+=arr[j]\n",
        "                j+=1\n",
        "            elif sum > s:\n",
        "                sum-=arr[i]\n",
        "                i+=1\n",
        "                print(sum)\n",
        "            else:\n",
        "                result = [i+1, j]\n",
        "                return result\n",
        "        return -1"
      ],
      "metadata": {
        "id": "gLZ6CoWEKVpc"
      },
      "execution_count": 62,
      "outputs": []
    },
    {
      "cell_type": "code",
      "source": [
        "A=[1,2,3,7,5]\n",
        "subArraySum(A,5,12)"
      ],
      "metadata": {
        "colab": {
          "base_uri": "https://localhost:8080/"
        },
        "id": "71FOx49-R8dI",
        "outputId": "7adeb21b-7cb7-486e-9bf1-3aec5ffd9539"
      },
      "execution_count": 63,
      "outputs": [
        {
          "output_type": "stream",
          "name": "stdout",
          "text": [
            "12\n"
          ]
        },
        {
          "output_type": "execute_result",
          "data": {
            "text/plain": [
              "[2, 4]"
            ]
          },
          "metadata": {},
          "execution_count": 63
        }
      ]
    },
    {
      "cell_type": "code",
      "source": [
        ""
      ],
      "metadata": {
        "id": "-T1CzjLgS-ee"
      },
      "execution_count": null,
      "outputs": []
    }
  ]
}