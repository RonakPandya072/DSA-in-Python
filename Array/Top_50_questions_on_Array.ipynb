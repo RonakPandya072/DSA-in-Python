{
  "nbformat": 4,
  "nbformat_minor": 0,
  "metadata": {
    "colab": {
      "name": "Top 50 questions on Array.ipynb",
      "provenance": [],
      "collapsed_sections": [],
      "authorship_tag": "ABX9TyPZkK2MXSMJ6m0MW9MpDNqc",
      "include_colab_link": true
    },
    "kernelspec": {
      "name": "python3",
      "display_name": "Python 3"
    },
    "language_info": {
      "name": "python"
    }
  },
  "cells": [
    {
      "cell_type": "markdown",
      "metadata": {
        "id": "view-in-github",
        "colab_type": "text"
      },
      "source": [
        "<a href=\"https://colab.research.google.com/github/RonakPandya072/DSA-in-Python/blob/main/Array/Top_50_questions_on_Array.ipynb\" target=\"_parent\"><img src=\"https://colab.research.google.com/assets/colab-badge.svg\" alt=\"Open In Colab\"/></a>"
      ]
    },
    {
      "cell_type": "markdown",
      "source": [
        "# Basic Problem - Level 1"
      ],
      "metadata": {
        "id": "7f4PAa7e389-"
      }
    },
    {
      "cell_type": "markdown",
      "source": [
        "Q.1 **Peak element**\n",
        "An element is called a peak element if its value is not smaller than the value of its adjacent elements(if they exists).\n",
        "Given an array arr[] of size N, find the index of any one of its peak elements.\n",
        "Note: The generated output will always be 1 if the index that you return is correct. Otherwise output will be 0. \n",
        "\n",
        "Link:https://practice.geeksforgeeks.org/problems/peak-element/1#\n"
      ],
      "metadata": {
        "id": "Q2zKECfvybMz"
      }
    },
    {
      "cell_type": "code",
      "source": [
        "'''def peakElement(arr, n):\n",
        "        return arr.index(max(arr))'''\n",
        "\n",
        "def peakElement(arr,n):\n",
        "  peak = 0\n",
        "  for i in range(n-1):\n",
        "    if arr[i]<arr[i+1]:\n",
        "      peak+=1\n",
        "  return peak"
      ],
      "metadata": {
        "id": "1AYw5K08ykLo"
      },
      "execution_count": null,
      "outputs": []
    },
    {
      "cell_type": "code",
      "source": [
        "peakElement([1,2,3],3)"
      ],
      "metadata": {
        "colab": {
          "base_uri": "https://localhost:8080/"
        },
        "id": "9DAizfABypRJ",
        "outputId": "5e229806-1cbf-47ff-ddca-fb0078313c5d"
      },
      "execution_count": null,
      "outputs": [
        {
          "output_type": "execute_result",
          "data": {
            "text/plain": [
              "2"
            ]
          },
          "metadata": {},
          "execution_count": 11
        }
      ]
    },
    {
      "cell_type": "markdown",
      "source": [
        "Q.2 **Find minimum and maximum element in an array**\n",
        "\n",
        "Given an array A of size N of integers. Your task is to find the minimum and maximum elements in the array.\n",
        "\n",
        "Link: https://practice.geeksforgeeks.org/problems/find-minimum-and-maximum-element-in-an-array4428/1"
      ],
      "metadata": {
        "id": "YvFZ9FfBwA4x"
      }
    },
    {
      "cell_type": "code",
      "source": [
        "def getMinMax(a, n):\n",
        "    max = 0\n",
        "    min = a[0]\n",
        "    for i in range(n):\n",
        "        if a[i] > max:\n",
        "            max = a[i]\n",
        "        if a[i] < min:\n",
        "            min = a[i]\n",
        "    print(\"min =\", min,\"max =\",max)\n",
        "    "
      ],
      "metadata": {
        "id": "7XBTsxo9xTJa"
      },
      "execution_count": null,
      "outputs": []
    },
    {
      "cell_type": "code",
      "source": [
        "A = [3, 2, 1, 56, 10000, 167]\n",
        "getMinMax(A,len(A))"
      ],
      "metadata": {
        "colab": {
          "base_uri": "https://localhost:8080/"
        },
        "id": "_zN1FScuxUnx",
        "outputId": "9dc415d0-d87d-4b38-e305-20284a966d1b"
      },
      "execution_count": null,
      "outputs": [
        {
          "output_type": "stream",
          "name": "stdout",
          "text": [
            "min = 1 max = 10000\n"
          ]
        }
      ]
    },
    {
      "cell_type": "markdown",
      "source": [
        "Q.3 **Reverse a String**\n",
        "\n",
        "\n",
        "You are given a string s. You need to reverse the string.\n",
        "\n",
        "link: https://practice.geeksforgeeks.org/problems/reverse-a-string/1"
      ],
      "metadata": {
        "id": "yTul2QjqzcYp"
      }
    },
    {
      "cell_type": "code",
      "source": [
        "def reverseWord(s):\n",
        "    return s[::-1]"
      ],
      "metadata": {
        "id": "ceN1Am8-xbWe"
      },
      "execution_count": null,
      "outputs": []
    },
    {
      "cell_type": "code",
      "source": [
        "reverseWord(\"Geeks\")"
      ],
      "metadata": {
        "colab": {
          "base_uri": "https://localhost:8080/",
          "height": 35
        },
        "id": "pqaMuQA30RUW",
        "outputId": "f391b7ab-9d89-4c92-99c1-ec02749481f5"
      },
      "execution_count": null,
      "outputs": [
        {
          "output_type": "execute_result",
          "data": {
            "application/vnd.google.colaboratory.intrinsic+json": {
              "type": "string"
            },
            "text/plain": [
              "'skeeG'"
            ]
          },
          "metadata": {},
          "execution_count": 22
        }
      ]
    },
    {
      "cell_type": "markdown",
      "source": [
        "Q.4 **Sort The Array**\n",
        "\n",
        "Given a random set of numbers, Print them in sorted order.\n",
        "\n",
        "Link: https://practice.geeksforgeeks.org/problems/sort-the-array0055/1"
      ],
      "metadata": {
        "id": "72syt5MT1PTY"
      }
    },
    {
      "cell_type": "code",
      "source": [
        "def sortArr(arr, n): \n",
        "        #code here\n",
        "        return list(sorted(arr))"
      ],
      "metadata": {
        "id": "IHvyZe70AkNU"
      },
      "execution_count": null,
      "outputs": []
    },
    {
      "cell_type": "code",
      "source": [
        "sortArr([5,7,2,0,8,2],6)"
      ],
      "metadata": {
        "colab": {
          "base_uri": "https://localhost:8080/"
        },
        "id": "Jldnt77KC6aO",
        "outputId": "fa76c3d3-c5e0-4d19-eca7-5f6c27ac6550"
      },
      "execution_count": null,
      "outputs": [
        {
          "output_type": "execute_result",
          "data": {
            "text/plain": [
              "[0, 2, 2, 5, 7, 8]"
            ]
          },
          "metadata": {},
          "execution_count": 43
        }
      ]
    },
    {
      "cell_type": "markdown",
      "source": [
        "Q.5 **Kth smallest element**\n",
        "\n",
        "Given an array arr[] and an integer K where K is smaller than size of array, the task is to find the Kth smallest element in the given array. It is given that all array elements are distinct.\n",
        "\n",
        "Link: https://practice.geeksforgeeks.org/problems/kth-smallest-element5635/1"
      ],
      "metadata": {
        "id": "3qs7p7PIDNAi"
      }
    },
    {
      "cell_type": "code",
      "source": [
        "#this can be done by priority queue(heap) try using this method when you learn the concept\n",
        "def kthSmallest(arr, l, r, k):\n",
        "        '''\n",
        "        arr : given array\n",
        "        l : starting index of the array i.e 0\n",
        "        r : ending index of the array i.e size-1\n",
        "        k : find kth smallest element and return using this function\n",
        "        '''\n",
        "      #this can be done by priority queue(heap) try using this method when you learn the concept\n",
        "        arr.sort()\n",
        "        return arr[k-1]"
      ],
      "metadata": {
        "id": "3_oagXqfC_mN"
      },
      "execution_count": null,
      "outputs": []
    },
    {
      "cell_type": "markdown",
      "source": [
        "Q.6 **Find the Frequency**\n",
        "\n",
        "Given a vector of N positive integers and an integer X. The task is to find the frequency of X in vector.\n",
        "\n",
        "Link: https://practice.geeksforgeeks.org/problems/find-the-frequency/1"
      ],
      "metadata": {
        "id": "Ohb8qvUKHkBX"
      }
    },
    {
      "cell_type": "code",
      "source": [
        "def findFrequency (arr, n, x):\n",
        "    # Your Code Here\n",
        "    frequency = 0\n",
        "    for i in range(len(arr)):\n",
        "        if arr[i] == x:\n",
        "            frequency+=1\n",
        "    return frequency"
      ],
      "metadata": {
        "id": "C16Gy5LGHeOF"
      },
      "execution_count": null,
      "outputs": []
    },
    {
      "cell_type": "markdown",
      "source": [
        "Q.7 **Sort an array of 0s, 1s and 2s**\n",
        "\n",
        "Datch national flag problem\n",
        "\n",
        "Given an array of size N containing only 0s, 1s, and 2s; sort the array in ascending order.\n",
        "\n",
        "Link: https://practice.geeksforgeeks.org/problems/sort-an-array-of-0s-1s-and-2s4231/1"
      ],
      "metadata": {
        "id": "zImGwsmpIoEf"
      }
    },
    {
      "cell_type": "code",
      "source": [
        "#counting sort approch\n",
        "def sort012(arr,n):\n",
        "        fre_0 = fre_1 = fre_2 = 0\n",
        "        for i in range(n):\n",
        "            if arr[i]==0:\n",
        "                fre_0+=1\n",
        "            if arr[i]==1:\n",
        "                fre_1+=1\n",
        "            if arr[i]==2:\n",
        "                fre_2+=1\n",
        "        for i in range(0,fre_0):\n",
        "            arr[i]=0\n",
        "        for i in range(fre_0,fre_1+fre_0):\n",
        "            arr[i]=1\n",
        "        for i in range(fre_1+fre_0, fre_1+fre_0+fre_2):\n",
        "            arr[i]=2\n",
        "        \n",
        "        return arr"
      ],
      "metadata": {
        "id": "AFa6UCctIj4m"
      },
      "execution_count": null,
      "outputs": []
    },
    {
      "cell_type": "code",
      "source": [
        "#another way\n",
        "#rime and space complexity: O(n),O(1)\n",
        "def Sort012(arr):\n",
        "  n = len(arr)\n",
        "  start = 0\n",
        "  curr = 0\n",
        "  end = n-1\n",
        "\n",
        "  while(curr <= end):\n",
        "\n",
        "    if arr[curr] == 0:\n",
        "      arr[curr], arr[start] = arr[start], arr[curr]\n",
        "      start+=1\n",
        "      curr+=1\n",
        "    \n",
        "    elif arr[curr] == 2:\n",
        "      arr[end],arr[curr] = arr[curr],arr[end]\n",
        "      end-=1\n",
        "\n",
        "    else:\n",
        "      curr+=1\n",
        "\n",
        "  return arr"
      ],
      "metadata": {
        "id": "sFn8JHVmiknT"
      },
      "execution_count": null,
      "outputs": []
    },
    {
      "cell_type": "code",
      "source": [
        "sort012([1,0,2,0,2,1,1],7)"
      ],
      "metadata": {
        "colab": {
          "base_uri": "https://localhost:8080/"
        },
        "id": "9_l4kBmMKLCg",
        "outputId": "f2d727da-87e6-4428-c557-8783f00ceb6a"
      },
      "execution_count": null,
      "outputs": [
        {
          "output_type": "execute_result",
          "data": {
            "text/plain": [
              "[0, 0, 1, 1, 1, 2, 2]"
            ]
          },
          "metadata": {},
          "execution_count": 47
        }
      ]
    },
    {
      "cell_type": "code",
      "source": [
        "Sort012([1,0,2,0,2,1,1])"
      ],
      "metadata": {
        "colab": {
          "base_uri": "https://localhost:8080/"
        },
        "id": "_hNbbx_4lPpd",
        "outputId": "f03d5ad9-e9f4-462d-8619-c24717429a28"
      },
      "execution_count": null,
      "outputs": [
        {
          "output_type": "execute_result",
          "data": {
            "text/plain": [
              "[0, 0, 1, 1, 1, 2, 2]"
            ]
          },
          "metadata": {},
          "execution_count": 8
        }
      ]
    },
    {
      "cell_type": "markdown",
      "source": [
        "Q.8 **Subarray with given sum**\n",
        "\n",
        "Given an unsorted array A of size N that contains only non-negative integers, find a continuous sub-array which adds to a given number S.\n",
        "\n",
        "Link: https://practice.geeksforgeeks.org/problems/subarray-with-given-sum-1587115621/1"
      ],
      "metadata": {
        "id": "LHcBclmUKb-5"
      }
    },
    {
      "cell_type": "code",
      "source": [
        "def subArraySum(arr, n, s):\n",
        "        low = i = sum= 0\n",
        "        hi = n-1\n",
        "        while i < n:\n",
        "          if sum < s:\n",
        "            sum+=arr[i]\n",
        "            i+=1\n",
        "\n",
        "          if sum==s:\n",
        "            return [low+1,i+1]\n",
        "          \n",
        "          if sum > s:\n",
        "            while(sum > s):\n",
        "              sum-=arr[low]\n",
        "              low+=1\n",
        "\n",
        "              if sum==s:\n",
        "                return[low+1,i]\n",
        "              i+=1\n",
        "            return -1\n"
      ],
      "metadata": {
        "id": "gLZ6CoWEKVpc"
      },
      "execution_count": null,
      "outputs": []
    },
    {
      "cell_type": "markdown",
      "source": [
        "Q.9 **Move all negative elements to end**\n",
        "\n",
        "\n",
        "Given an unsorted array arr[] of size N having both negative and positive integers. The task is place all negative element at the end of array without changing the order of positive element and negative element.\n",
        "\n",
        "Link:\n",
        "https://practice.geeksforgeeks.org/problems/move-all-negative-elements-to-end1813/1"
      ],
      "metadata": {
        "id": "PvjTJtaS-Kc_"
      }
    },
    {
      "cell_type": "code",
      "source": [
        "def segregateElements(arr, n):\n",
        "  temp=[0]*n\n",
        "  j = 0\n",
        "  for i in range(n):\n",
        "    if arr[i] > 0:\n",
        "      temp[j] = arr[i]\n",
        "      j+=1\n",
        "  for i in range(n):\n",
        "    if arr[i]<0:\n",
        "      temp[j] = arr[i]\n",
        "      j+=1\n",
        "  return temp"
      ],
      "metadata": {
        "id": "-T1CzjLgS-ee"
      },
      "execution_count": null,
      "outputs": []
    },
    {
      "cell_type": "code",
      "source": [
        "A=[1,-1,3,2,-7,-5,11,6]"
      ],
      "metadata": {
        "id": "7Iy3O3Sd_2y4"
      },
      "execution_count": null,
      "outputs": []
    },
    {
      "cell_type": "code",
      "source": [
        "segregateElements(A,8)"
      ],
      "metadata": {
        "colab": {
          "base_uri": "https://localhost:8080/"
        },
        "id": "YcvcPMWYAAVh",
        "outputId": "b062f14c-fb2c-4948-888b-dc57fd0725df"
      },
      "execution_count": null,
      "outputs": [
        {
          "output_type": "execute_result",
          "data": {
            "text/plain": [
              "[1, 3, 2, 11, 6, -1, -7, -5]"
            ]
          },
          "metadata": {},
          "execution_count": 44
        }
      ]
    },
    {
      "cell_type": "markdown",
      "source": [
        "Q.10 **Union of two array**\n",
        "\n",
        "Given two arrays a[] and b[] of size n and m respectively. The task is to find union between these two arrays.\n",
        "\n",
        "Union of the two arrays can be defined as the set containing distinct elements from both the arrays. If there are repetitions, then only one occurrence of element should be printed in the union.\n",
        "\n",
        "Link:https://practice.geeksforgeeks.org/problems/union-of-two-arrays3538/1"
      ],
      "metadata": {
        "id": "2i6sHQnfCaZX"
      }
    },
    {
      "cell_type": "code",
      "source": [
        "def doUnion(a,n,b,m):\n",
        "  Set = set(a)\n",
        "  for i in range(m):\n",
        "    Set.add(b[i])\n",
        "  count = 0\n",
        "  for i in range(len(Set)):\n",
        "    count+=1\n",
        "  return count"
      ],
      "metadata": {
        "id": "3ixxhRXXAD8Q"
      },
      "execution_count": null,
      "outputs": []
    },
    {
      "cell_type": "code",
      "source": [
        "doUnion([1,2,3,4,5],5,[1,2,3,4],4)"
      ],
      "metadata": {
        "colab": {
          "base_uri": "https://localhost:8080/"
        },
        "id": "bTGD7HpDDb-U",
        "outputId": "8ca8a1cd-96af-40c6-df17-17af482779b4"
      },
      "execution_count": null,
      "outputs": [
        {
          "output_type": "execute_result",
          "data": {
            "text/plain": [
              "5"
            ]
          },
          "metadata": {},
          "execution_count": 48
        }
      ]
    },
    {
      "cell_type": "markdown",
      "source": [
        "#Level 2"
      ],
      "metadata": {
        "id": "X9oxjXPfEc2G"
      }
    },
    {
      "cell_type": "markdown",
      "source": [
        "Q.1 **Cyclically rotate an array by one**\n",
        "\n",
        "Given an array, rotate the array by one position in clock-wise direction.\n",
        "\n",
        "Link:https://practice.geeksforgeeks.org/problems/cyclically-rotate-an-array-by-one2614/1"
      ],
      "metadata": {
        "id": "R_X6lh2YEk1x"
      }
    },
    {
      "cell_type": "code",
      "source": [
        "def rotate(arr, n):  #Ingeneral function to rotate an array clock wise direction\n",
        "    k = 1\n",
        "    (arr[k:],arr[:k])=(arr[:-k],arr[-k:])\n",
        "    return arr\n"
      ],
      "metadata": {
        "id": "tSQPXKJ9DpMr"
      },
      "execution_count": null,
      "outputs": []
    },
    {
      "cell_type": "code",
      "source": [
        "A = [1,2,3,4,5]\n",
        "rotate(A,5)"
      ],
      "metadata": {
        "colab": {
          "base_uri": "https://localhost:8080/"
        },
        "id": "u44Sp2mWF6YS",
        "outputId": "87c3fdee-6ec5-46b8-894b-2c534c59f8ef"
      },
      "execution_count": null,
      "outputs": [
        {
          "output_type": "execute_result",
          "data": {
            "text/plain": [
              "[5, 1, 2, 3, 4]"
            ]
          },
          "metadata": {},
          "execution_count": 61
        }
      ]
    },
    {
      "cell_type": "markdown",
      "source": [
        "Q.2 **Missing number in array**\n",
        "\n",
        "Given an array of size N-1 such that it only contains distinct integers in the range of 1 to N. Find the missing element.\n",
        "\n",
        "Link: https://practice.geeksforgeeks.org/problems/missing-number-in-array1416/1"
      ],
      "metadata": {
        "id": "rm4N7dKOGa0j"
      }
    },
    {
      "cell_type": "code",
      "source": [
        "def MissingNumber(array,n):\n",
        "        num_list = [i for i in range(1,n+1)]\n",
        "        sum_list = sum(num_list)\n",
        "        sum_array = sum(array)\n",
        "        if sum_list==sum_array:\n",
        "            return\n",
        "        else:\n",
        "            return abs(sum_list - sum_array)"
      ],
      "metadata": {
        "id": "NnRJgZV1F_h3"
      },
      "execution_count": null,
      "outputs": []
    },
    {
      "cell_type": "code",
      "source": [
        "A=[2]\n",
        "MissingNumber(A,1)"
      ],
      "metadata": {
        "colab": {
          "base_uri": "https://localhost:8080/"
        },
        "id": "RHbHskY0HLHt",
        "outputId": "56c2b303-8038-4827-e497-78938642d233"
      },
      "execution_count": null,
      "outputs": [
        {
          "output_type": "execute_result",
          "data": {
            "text/plain": [
              "1"
            ]
          },
          "metadata": {},
          "execution_count": 81
        }
      ]
    },
    {
      "cell_type": "markdown",
      "source": [
        "Q.3 **Count pairs with given sum**\n",
        "\n",
        "Given an array of N integers, and an integer K, find the number of pairs of elements in the array whose sum is equal to K.\n",
        "\n",
        "Link:\n",
        "https://practice.geeksforgeeks.org/problems/count-pairs-with-given-sum5022/1"
      ],
      "metadata": {
        "id": "mqa-ccjGM6wa"
      }
    },
    {
      "cell_type": "code",
      "source": [
        "#Use Map concept to solve the question"
      ],
      "metadata": {
        "id": "InCRR8_BHSBP"
      },
      "execution_count": null,
      "outputs": []
    },
    {
      "cell_type": "markdown",
      "source": [
        "Q.4 **Find duplicates in an array**\n",
        "\n",
        "Given an array a[] of size N which contains elements from 0 to N-1, you need to find all the elements occurring more than once in the given array.\n",
        "\n",
        "Link:\n",
        "https://practice.geeksforgeeks.org/problems/find-duplicates-in-an-array/1"
      ],
      "metadata": {
        "id": "kHyIq0XLQN7I"
      }
    },
    {
      "cell_type": "code",
      "source": [
        "def duplicates(arr, n):\n",
        "  S = set()\n",
        "  result = 0\n",
        "  for i in range(n):\n",
        "    if arr.count(arr[i])>1:\n",
        "      S.add(arr[i])\n",
        "      result+=1\n",
        "  if result > 0:\n",
        "    return S\n",
        "  else:\n",
        "    return -1"
      ],
      "metadata": {
        "id": "M9UoXdtAQNNe"
      },
      "execution_count": null,
      "outputs": []
    },
    {
      "cell_type": "code",
      "source": [
        "duplicates([2,3,1,2,3,8,7,5,55,55,2,8,5],12)"
      ],
      "metadata": {
        "colab": {
          "base_uri": "https://localhost:8080/"
        },
        "id": "gzhmVI3VRrvL",
        "outputId": "22e3b888-3ff9-4e4a-eee6-b63d0bec6860"
      },
      "execution_count": null,
      "outputs": [
        {
          "output_type": "execute_result",
          "data": {
            "text/plain": [
              "{2, 3, 5, 8, 55}"
            ]
          },
          "metadata": {},
          "execution_count": 110
        }
      ]
    },
    {
      "cell_type": "markdown",
      "source": [
        "Q.5 **Quick Sort**\n",
        "\n",
        "Quick Sort is a Divide and Conquer algorithm. It picks an element as pivot and partitions the given array around the picked pivot.\n",
        "Given an array arr[], its starting position low and its ending position high.\n",
        "\n",
        "Implement the partition() and quickSort() functions to sort the array.\n",
        "\n",
        "Link: https://practice.geeksforgeeks.org/problems/quick-sort/1"
      ],
      "metadata": {
        "id": "YCg7wMKSV_ke"
      }
    },
    {
      "cell_type": "code",
      "source": [
        "import numpy as np\n",
        "import math\n",
        "def quickSort(arr,low,high):\n",
        "  if(low < high):\n",
        "    j = partition(arr,low,high)\n",
        "    quickSort(arr,low,j-1)\n",
        "    quickSort(arr,j+1,high)\n",
        "  return arr\n",
        "\n",
        "def partition(arr,low,high):\n",
        "  pivot = low\n",
        "  while low < high:\n",
        "    if(arr[low] < arr[pivot]):\n",
        "      low = low + 1\n",
        "    if(arr[high] > arr[pivot]):\n",
        "      high = high -1\n",
        "    if(arr[low]>arr[high]):\n",
        "      arr[low],arr[high]=arr[high],arr[low]\n",
        "  arr[high],arr[pivot] = arr[pivot], arr[high]\n",
        "  return high"
      ],
      "metadata": {
        "id": "OPks0794SCAs"
      },
      "execution_count": null,
      "outputs": []
    },
    {
      "cell_type": "code",
      "source": [
        "A = [4,8,2,5,3,1]\n",
        "quickSort(A,0,len(A)-1)"
      ],
      "metadata": {
        "id": "0qY-Sxy3qdm9",
        "colab": {
          "base_uri": "https://localhost:8080/"
        },
        "outputId": "8bbef584-5734-41d2-c241-9b334b74b10b"
      },
      "execution_count": null,
      "outputs": [
        {
          "output_type": "execute_result",
          "data": {
            "text/plain": [
              "[1, 2, 3, 4, 5, 8]"
            ]
          },
          "metadata": {},
          "execution_count": 68
        }
      ]
    },
    {
      "cell_type": "markdown",
      "source": [
        "Q.6 **Common elements**\n",
        "\n",
        "Given three arrays sorted in increasing order. Find the elements that are common in all three arrays.\n",
        "Note: can you take care of the duplicates without using any additional Data Structure?\n",
        "\n",
        "Link:\n",
        "https://practice.geeksforgeeks.org/problems/common-elements1132/1"
      ],
      "metadata": {
        "id": "9B1viR0ZJPL7"
      }
    },
    {
      "cell_type": "code",
      "source": [
        "def commonElements(A, B, C, n1, n2, n3):\n",
        "  k = list(set(A)&set(B)&set(C))\n",
        "  k.sort()\n",
        "  return k"
      ],
      "metadata": {
        "id": "GELxfDWNJW2R"
      },
      "execution_count": null,
      "outputs": []
    },
    {
      "cell_type": "code",
      "source": [
        "A=[1,5,10,20,40,80]\n",
        "B=[6,7,20,80,100]\n",
        "C=[3,4,15,20,30,70,80,120]\n",
        "commonElements(A,B,C,len(A),len(B),len(C))"
      ],
      "metadata": {
        "colab": {
          "base_uri": "https://localhost:8080/"
        },
        "id": "FofSK-MRLJPK",
        "outputId": "4bfd9128-7aaf-4a09-a975-52614610bfb0"
      },
      "execution_count": null,
      "outputs": [
        {
          "output_type": "execute_result",
          "data": {
            "text/plain": [
              "[20, 80]"
            ]
          },
          "metadata": {},
          "execution_count": 94
        }
      ]
    },
    {
      "cell_type": "markdown",
      "source": [
        "Q.7 **First Repeating Element**\n",
        "\n",
        "Given an array arr[] of size n, find the first repeating element. The element should occurs more than once and the index of its first occurrence should be the smallest.\n",
        "\n",
        "link: https://practice.geeksforgeeks.org/problems/first-repeating-element4018/1"
      ],
      "metadata": {
        "id": "mq23ZXOwOzjT"
      }
    },
    {
      "cell_type": "code",
      "source": [
        "def firstRepeated(arr, n):\n",
        "        result = []\n",
        "        check = False\n",
        "        for i in range(n):\n",
        "            if arr[i] in arr[i+1:]:\n",
        "                result.append(arr.index(arr[i]))\n",
        "                check = True\n",
        "        \n",
        "        if check:\n",
        "            return result[0]+1\n",
        "        else:\n",
        "            return -1"
      ],
      "metadata": {
        "id": "76LSXvyXLc9h"
      },
      "execution_count": null,
      "outputs": []
    },
    {
      "cell_type": "code",
      "source": [
        "A=[7,4,0,9,4,8,8,2,4,5,5,1]\n",
        "firstRepeated(A,len(A))"
      ],
      "metadata": {
        "colab": {
          "base_uri": "https://localhost:8080/"
        },
        "id": "tHJIk2T9QPsK",
        "outputId": "31278056-65db-4cbb-cef3-afb8368fde17"
      },
      "execution_count": null,
      "outputs": [
        {
          "output_type": "execute_result",
          "data": {
            "text/plain": [
              "2"
            ]
          },
          "metadata": {},
          "execution_count": 138
        }
      ]
    },
    {
      "cell_type": "markdown",
      "source": [
        "Q.8 **Non-Repeating Element**\n",
        "\n",
        "Find the first non-repeating element in a given array arr of N integers.\n",
        "Note: Array consists of only positive and negative integers and not zero.\n",
        "\n",
        "Link:https://practice.geeksforgeeks.org/problems/non-repeating-element3958/1"
      ],
      "metadata": {
        "id": "tCLWN50WYqWV"
      }
    },
    {
      "cell_type": "code",
      "source": [
        "def firstNonRepeating(arr, n): \n",
        "        # Complete the function\n",
        "        for i in range(n):\n",
        "            a = arr.count(arr[i])\n",
        "            if a == 1:\n",
        "              return arr[i]\n",
        "        return 0"
      ],
      "metadata": {
        "id": "emTCq_RtQ9UT"
      },
      "execution_count": null,
      "outputs": []
    },
    {
      "cell_type": "code",
      "source": [
        "A = [-1,2,-1,3,2]\n",
        "firstNonRepeating(A,len(A))"
      ],
      "metadata": {
        "colab": {
          "base_uri": "https://localhost:8080/"
        },
        "id": "dMRZJpmVc2mr",
        "outputId": "c6bd0a13-03b1-4b77-9786-25157614ee17"
      },
      "execution_count": null,
      "outputs": [
        {
          "output_type": "execute_result",
          "data": {
            "text/plain": [
              "3"
            ]
          },
          "metadata": {},
          "execution_count": 153
        }
      ]
    },
    {
      "cell_type": "markdown",
      "source": [
        "Q.9 **Subarrays with equal 1s and 0s**\n",
        "\n",
        "Given an array containing 0s and 1s. Find the number of subarrays having equal number of 0s and 1s.\n",
        "\n",
        "Link: https://practice.geeksforgeeks.org/problems/count-subarrays-with-equal-number-of-1s-and-0s-1587115620/1"
      ],
      "metadata": {
        "id": "ujwTgEzkn_Ag"
      }
    },
    {
      "cell_type": "code",
      "source": [
        "#replace all 0's with -1 and procced similarly as done in Q.14\n",
        "#time and space complexity, O(n), O(n)\n",
        "def equalZerosumSubarray(nums):\n",
        "  hashmap = {}\n",
        "  n = len(nums)\n",
        "  for i in range(n):\n",
        "    if nums[i]==0:\n",
        "      nums[i] = -1\n",
        "\n",
        "  prefix_sum = [0]*n\n",
        "  for i in range(n):\n",
        "    if i==0:\n",
        "      prefix_sum[i] = nums[i]\n",
        "    else:\n",
        "      prefix_sum[i] = prefix_sum[i-1]+nums[i]\n",
        "  #prefix is calculated\n",
        "  for i in range(n):\n",
        "    if prefix_sum[i] not in hashmap:\n",
        "      hashmap[prefix_sum[i]] = [i]\n",
        "    else:\n",
        "      hashmap[prefix_sum[i]].append(i)\n",
        "    #Hashmap is created\n",
        "  answer = [] \n",
        "  for key, value in hashmap.items():\n",
        "    if len(value)>1 or key == 0:\n",
        "      if key ==0:\n",
        "        for val in value:\n",
        "          answer.append((0,val))\n",
        "        for j in range(len(value)-1):\n",
        "          for k in range(j+1, len(value)):\n",
        "            answer.append((value[j]+1,value[k]))\n",
        "      else:\n",
        "        for j in range(len(value)-1):\n",
        "          for k in range(j+1, len(value)):\n",
        "            answer.append((value[j]+1,value[k]))\n",
        "  return len(answer)"
      ],
      "metadata": {
        "id": "ko65osCFuTuk"
      },
      "execution_count": null,
      "outputs": []
    },
    {
      "cell_type": "code",
      "source": [
        "nums = [1,0,0,1,0,1,1]\n",
        "equalZerosumSubarray(nums)"
      ],
      "metadata": {
        "colab": {
          "base_uri": "https://localhost:8080/"
        },
        "id": "m9ERKLBDf8Gg",
        "outputId": "a51d050b-eee3-4799-9faa-82776e753f38"
      },
      "execution_count": null,
      "outputs": [
        {
          "output_type": "stream",
          "name": "stdout",
          "text": [
            "{1: [0, 6], 0: [1, 3, 5], -1: [2, 4]}\n"
          ]
        },
        {
          "output_type": "execute_result",
          "data": {
            "text/plain": [
              "8"
            ]
          },
          "metadata": {},
          "execution_count": 76
        }
      ]
    },
    {
      "cell_type": "markdown",
      "source": [
        "Q.10 **Check if subarray with 0 sum is exist**"
      ],
      "metadata": {
        "id": "P6KdBtLFZ04W"
      }
    },
    {
      "cell_type": "code",
      "source": [
        "#time and space complexity: O(n),O(n)\n",
        "def zeroSumsubarray(number):\n",
        "  total=0\n",
        "  n = len(number)\n",
        "  number_set = set()\n",
        "  prefix_sum=[0]*n\n",
        "  \n",
        "  for i in range(n):\n",
        "    total+=number[i]\n",
        "    prefix_sum[i] = total\n",
        "  #computed prefix sum array\n",
        "\n",
        "  for i in range(n):\n",
        "    if prefix_sum[i] in number_set:\n",
        "      return True\n",
        "    else:\n",
        "      number_set.add(prefix_sum[i])\n",
        "  if 0 in number_set:\n",
        "    return True\n",
        "  else:\n",
        "    return False\n"
      ],
      "metadata": {
        "id": "yv5vU7cBv4Ky"
      },
      "execution_count": null,
      "outputs": []
    },
    {
      "cell_type": "markdown",
      "source": [
        "Q.11 **Print all sub arrays with 0 sum**"
      ],
      "metadata": {
        "id": "mUOR-yIzgqDZ"
      }
    },
    {
      "cell_type": "code",
      "source": [
        "#time and space complexity: O(n*n), O(n)\n",
        "def allZerosumSubarray(nums):\n",
        "  hashmap = {}\n",
        "  n = len(nums)\n",
        "  prefix_sum = [0]*n\n",
        "  for i in range(n):\n",
        "    if i==0:\n",
        "      prefix_sum[i] = nums[i]\n",
        "    else:\n",
        "      prefix_sum[i] = prefix_sum[i-1]+nums[i]\n",
        "  #prefix is calculated\n",
        "  for i in range(n):\n",
        "    if prefix_sum[i] not in hashmap:\n",
        "      hashmap[prefix_sum[i]] = [i]\n",
        "    else:\n",
        "      hashmap[prefix_sum[i]].append(i)\n",
        "    #Hashmap is created\n",
        "  print(hashmap)\n",
        "  answer = [] \n",
        "  for key, value in hashmap.items():\n",
        "    if len(value)>1 or key == 0:\n",
        "      if key ==0:\n",
        "        for val in value:\n",
        "          answer.append((0,val))\n",
        "        for j in range(len(value)-1):\n",
        "          for k in range(j+1, len(value)):\n",
        "            answer.append((value[j]+1,value[k]))\n",
        "      else:\n",
        "        for j in range(len(value)-1):\n",
        "          for k in range(j+1, len(value)):\n",
        "            answer.append((value[j]+1,value[k]))\n",
        "  return answer"
      ],
      "metadata": {
        "id": "nCyVRIdcbivr"
      },
      "execution_count": null,
      "outputs": []
    },
    {
      "cell_type": "code",
      "source": [
        "allZerosumSubarray([1,-1,-1,1,-1,1,1])"
      ],
      "metadata": {
        "colab": {
          "base_uri": "https://localhost:8080/"
        },
        "id": "g4p_sbGBjyHW",
        "outputId": "c6d262db-03b7-4486-e44a-083887f0b8ed"
      },
      "execution_count": null,
      "outputs": [
        {
          "output_type": "stream",
          "name": "stdout",
          "text": [
            "{1: [0, 6], 0: [1, 3, 5], -1: [2, 4]}\n"
          ]
        },
        {
          "output_type": "execute_result",
          "data": {
            "text/plain": [
              "[(1, 6), (0, 1), (0, 3), (0, 5), (2, 3), (2, 5), (4, 5), (3, 4)]"
            ]
          },
          "metadata": {},
          "execution_count": 69
        }
      ]
    },
    {
      "cell_type": "markdown",
      "source": [
        "Q.12 **Sort Binary array in linear Time**"
      ],
      "metadata": {
        "id": "zXc3GF7plnRJ"
      }
    },
    {
      "cell_type": "code",
      "source": [
        "#time and space complexity: O(n),O(1)\n",
        "def Binarysort(arr):\n",
        "  n = len(arr)\n",
        "  idx = start = 0\n",
        "  while idx<n:\n",
        "    if arr[idx]==0:\n",
        "      arr[idx],arr[start] = arr[start],arr[idx]\n",
        "      start+=1\n",
        "    idx+=1\n",
        "  return arr"
      ],
      "metadata": {
        "id": "fVNP53hYj6xE"
      },
      "execution_count": null,
      "outputs": []
    },
    {
      "cell_type": "code",
      "source": [
        "Binarysort([1,0,1,1,0,0])"
      ],
      "metadata": {
        "colab": {
          "base_uri": "https://localhost:8080/"
        },
        "id": "WWHsMnfUnfll",
        "outputId": "544297d6-0ba3-491e-9100-34280c3bb392"
      },
      "execution_count": null,
      "outputs": [
        {
          "output_type": "execute_result",
          "data": {
            "text/plain": [
              "[0, 0, 0, 1, 1, 1]"
            ]
          },
          "metadata": {},
          "execution_count": 11
        }
      ]
    },
    {
      "cell_type": "markdown",
      "source": [
        "Q.13 **Find a duplicate element in a limited range array**"
      ],
      "metadata": {
        "id": "ScB-dQfYnrW6"
      }
    },
    {
      "cell_type": "code",
      "source": [
        "#XOR concept  #limited length = if length of arr is n then it has 1 to n-1 elements only with 1 duplicate element\n",
        "#time and space complexity: O(n),O(1)\n",
        "def findDuplicate(arr):\n",
        "  n = len(arr)\n",
        "  xor_number = arr[0]\n",
        "  for i in range(1,n):\n",
        "    xor_number = xor_number ^ arr[i]\n",
        "  \n",
        "  for i in range(1,n):\n",
        "    xor_number = xor_number ^ i\n",
        "  return xor_number\n"
      ],
      "metadata": {
        "id": "1SYChkaanjyU"
      },
      "execution_count": null,
      "outputs": []
    },
    {
      "cell_type": "code",
      "source": [
        "findDuplicate([6,1,2,3,1,4,5])"
      ],
      "metadata": {
        "colab": {
          "base_uri": "https://localhost:8080/"
        },
        "id": "TJ1oY5IQsX6U",
        "outputId": "f032c77b-9753-4881-f574-ba32932a574f"
      },
      "execution_count": null,
      "outputs": [
        {
          "output_type": "stream",
          "name": "stdout",
          "text": [
            "6\n"
          ]
        },
        {
          "output_type": "execute_result",
          "data": {
            "text/plain": [
              "1"
            ]
          },
          "metadata": {},
          "execution_count": 19
        }
      ]
    },
    {
      "cell_type": "markdown",
      "source": [
        "Q.14 **Find maximum length of sub array having given sum**\n"
      ],
      "metadata": {
        "id": "rjdhH_9Ktvgc"
      }
    },
    {
      "cell_type": "code",
      "source": [
        "#time and space complexity is O(n), O(n)\n",
        "def MaxsumArry(arr, target):\n",
        "  n = len(arr)\n",
        "  prefix_sum = [0]*n\n",
        "  for i in range(n):\n",
        "    if i == 0:\n",
        "      prefix_sum[i] = arr[i]\n",
        "    else:\n",
        "      prefix_sum[i] = arr[i] + prefix_sum[i - 1]\n",
        "    \n",
        "  hashmap={}\n",
        "  length = 0\n",
        "  for i in range(n):\n",
        "    #edge case\n",
        "    if prefix_sum[i] == target:\n",
        "      length = max(length, i +1)\n",
        "    #normal consideration\n",
        "    if prefix_sum[i] not in hashmap:\n",
        "      hashmap[prefix_sum[i]] = i\n",
        "    if (prefix_sum[i] - target) in hashmap:\n",
        "      length = max(length, i - hashmap[prefix_sum[i] - target])\n",
        "    \n",
        "  return length"
      ],
      "metadata": {
        "id": "23HbXSPqsbVE"
      },
      "execution_count": null,
      "outputs": []
    },
    {
      "cell_type": "code",
      "source": [
        "A = [5,6,-5,5,3,5,3,-2,0]\n",
        "MaxsumArry(A,8)"
      ],
      "metadata": {
        "colab": {
          "base_uri": "https://localhost:8080/"
        },
        "id": "z-Y1TRaua0SE",
        "outputId": "27bb1632-f87e-4c68-cc32-500bc88e7ad8"
      },
      "execution_count": null,
      "outputs": [
        {
          "output_type": "execute_result",
          "data": {
            "text/plain": [
              "4"
            ]
          },
          "metadata": {},
          "execution_count": 48
        }
      ]
    },
    {
      "cell_type": "markdown",
      "source": [
        "Q.15 **Maximum length of Sub array having equal 0's and 1's**"
      ],
      "metadata": {
        "id": "cSU8TJfNodAz"
      }
    },
    {
      "cell_type": "code",
      "source": [
        "#replace all 0's with -1 and procced similarly as done in Q.14\n",
        "#time and space complexity, O(n), O(n)\n",
        "def Equal0s(arr):\n",
        "  n = len(arr)\n",
        "\n",
        "  for i in range(n):\n",
        "    if arr[i]==0:\n",
        "      arr[i] = -1\n",
        "\n",
        "  #replacing 0's with -1 is done\n",
        "  #creating a prefix_sum array\n",
        "  prefix_sum = [0]*n\n",
        "  for i in range(n):\n",
        "    if i == 0:\n",
        "      prefix_sum[i] = arr[i]\n",
        "    else:\n",
        "      prefix_sum[i] = arr[i] + prefix_sum[i - 1]\n",
        "    #creating a hashmap\n",
        "    length = 0\n",
        "    hashmap={}\n",
        "\n",
        "    for i in range(n):\n",
        "      #edge case\n",
        "      if prefix_sum[i] == 0:\n",
        "        length = max(length, i+1)\n",
        "      #normal case\n",
        "      if prefix_sum[i] not in hashmap:\n",
        "        hashmap[prefix_sum[i]] = i\n",
        "      if (prefix_sum[i]) in hashmap:\n",
        "        length = max(length, i - hashmap[prefix_sum[i]])\n",
        "\n",
        "  return length\n"
      ],
      "metadata": {
        "id": "4BQ2LKT4odZJ"
      },
      "execution_count": null,
      "outputs": []
    },
    {
      "cell_type": "code",
      "source": [
        "nums = [1,0,0,1,0,1,1]\n",
        "Equal0s(nums)"
      ],
      "metadata": {
        "colab": {
          "base_uri": "https://localhost:8080/"
        },
        "id": "YYAGL8_sa-nF",
        "outputId": "390d6148-0e0d-438e-d50c-249cc77944b9"
      },
      "execution_count": null,
      "outputs": [
        {
          "output_type": "execute_result",
          "data": {
            "text/plain": [
              "6"
            ]
          },
          "metadata": {},
          "execution_count": 49
        }
      ]
    },
    {
      "cell_type": "markdown",
      "source": [
        "Q.16 **Find maximum product of two integers in an array**"
      ],
      "metadata": {
        "id": "i-BjvCaevWfM"
      }
    },
    {
      "cell_type": "code",
      "source": [
        "#Time and space complexity: O(n) and O(1)\n",
        "def MaximumProductofTwointeger(arr):\n",
        "  min_1 = arr[0]\n",
        "  min_2 = float('inf')\n",
        "  max_1 = arr[0]\n",
        "  max_2 = float('-inf')\n",
        "  n = len(arr)\n",
        "\n",
        "  for i in range(1,n):\n",
        "    if min_1 > arr[i]:\n",
        "      min_2 = min_1\n",
        "      min_1 = arr[i]\n",
        "    elif min_2 > arr[i]:\n",
        "      min_2 = arr[i]\n",
        "\n",
        "    if max_1 < arr[i]:\n",
        "      max_2 = max_1\n",
        "      max_1 = arr[i]\n",
        "    elif max_2 < arr[i]:\n",
        "      max_2 = arr[i]\n",
        "    \n",
        "  return max(min_1*min_2, max_1*max_2)\n",
        "\n",
        "  "
      ],
      "metadata": {
        "id": "PnsVL55Foq_n"
      },
      "execution_count": null,
      "outputs": []
    },
    {
      "cell_type": "code",
      "source": [
        "A = [-10,-3,5,6,-2]\n",
        "MaximumProductofTwointeger(A)"
      ],
      "metadata": {
        "colab": {
          "base_uri": "https://localhost:8080/"
        },
        "id": "RNXE8Xmo3dho",
        "outputId": "1a707801-6c64-4da2-edd3-47f8f8c5ec80"
      },
      "execution_count": null,
      "outputs": [
        {
          "output_type": "execute_result",
          "data": {
            "text/plain": [
              "30"
            ]
          },
          "metadata": {},
          "execution_count": 91
        }
      ]
    },
    {
      "cell_type": "markdown",
      "source": [
        "Q.17 **Inplace Merge two Sorted array**"
      ],
      "metadata": {
        "id": "XKvNupZXiMeQ"
      }
    },
    {
      "cell_type": "code",
      "source": [
        "def MergeTwoSortedArray(A,B):\n",
        "  #gather all the elements of A in one place\n",
        "  idx = 0\n",
        "  n = len(A)\n",
        "  for i in range(n):\n",
        "    if A[i] !=0:\n",
        "      A[idx] = A[i]\n",
        "      idx+=1\n",
        "\n",
        "  #merge A and B using merge sort condition\n",
        "  i = idx - 1\n",
        "  j = len(B) - 1\n",
        "  k = len(A) - 1\n",
        "\n",
        "  while(i >=0 and j>=0):\n",
        "    if B[j] > A[i]:\n",
        "      A[k] = B[j]\n",
        "      j -=1\n",
        "      k-=1\n",
        "    \n",
        "    else:\n",
        "      A[k] = A[i]\n",
        "      k-=1\n",
        "      i-=1\n",
        "    \n",
        "  while(j >=0):\n",
        "    A[k] = B[j]\n",
        "    j-=1\n",
        "    k-=1\n",
        "\n",
        "  return A\n",
        "    "
      ],
      "metadata": {
        "id": "4wNy-sUA4Q47"
      },
      "execution_count": null,
      "outputs": []
    },
    {
      "cell_type": "code",
      "source": [
        "A = [2,0,3,5,0,0]  #here 0 is the number where we havr to place the another array's elements\n",
        "B = [1,7,8]\n",
        "MergeTwoSortedArray(A,B)"
      ],
      "metadata": {
        "colab": {
          "base_uri": "https://localhost:8080/"
        },
        "id": "zd8wIpdxtcbW",
        "outputId": "be15eba6-e5bd-48b7-e435-e7a48a5269fb"
      },
      "execution_count": null,
      "outputs": [
        {
          "output_type": "execute_result",
          "data": {
            "text/plain": [
              "[1, 2, 3, 5, 7, 8]"
            ]
          },
          "metadata": {},
          "execution_count": 20
        }
      ]
    },
    {
      "cell_type": "markdown",
      "source": [
        "Q.18 **Find index of 0 to replace to get maximum length sequence of continuous ones**"
      ],
      "metadata": {
        "id": "7KKeAR96wsY0"
      }
    },
    {
      "cell_type": "code",
      "source": [
        "def FindIndexofZero(arr):\n",
        "  n = len(arr)\n",
        "  count = 0\n",
        "  max_count = 0\n",
        "  previous_zero = -1\n",
        "  answer_idx = -1\n",
        "\n",
        "  for i in range(n):\n",
        "    if arr[i] == 1:\n",
        "      count+=1\n",
        "    else:\n",
        "      previous_zero = i\n",
        "    if count > max_count:\n",
        "      max_count = count\n",
        "      answer_idx = previous_zero\n",
        "\n",
        "  return answer_idx  "
      ],
      "metadata": {
        "id": "SDWEbsd4tkM0"
      },
      "execution_count": null,
      "outputs": []
    },
    {
      "cell_type": "code",
      "source": [
        "A = [0,0,0,1,1,0,1,1]\n",
        "FindIndexofZero(A)"
      ],
      "metadata": {
        "colab": {
          "base_uri": "https://localhost:8080/"
        },
        "id": "IdkK107O5Uwb",
        "outputId": "4f78d85b-1df1-447e-d32d-02d4c59ddc22"
      },
      "execution_count": null,
      "outputs": [
        {
          "output_type": "execute_result",
          "data": {
            "text/plain": [
              "5"
            ]
          },
          "metadata": {},
          "execution_count": 26
        }
      ]
    },
    {
      "cell_type": "markdown",
      "source": [
        "Q.19 **Shuffle a given array of elements (Fisher–Yates shuffle)**"
      ],
      "metadata": {
        "id": "lMYI2HmL6F5S"
      }
    },
    {
      "cell_type": "code",
      "source": [
        "#time and space complexity: O(n),O(1)\n",
        "from random import randrange\n",
        "def arrayShuffleFisherYate(A):\n",
        "  max_idx = len(A)-1\n",
        "  for i in range(max_idx):\n",
        "    A[max_idx], A[i] = A[i],A[max_idx]\n",
        "    max_idx-=1\n",
        "  return A"
      ],
      "metadata": {
        "id": "HU4TcZGy5n-d"
      },
      "execution_count": null,
      "outputs": []
    },
    {
      "cell_type": "code",
      "source": [
        "A = [1,2,3,4,5]\n",
        "\n",
        "arrayShuffleFisherYate(A)"
      ],
      "metadata": {
        "colab": {
          "base_uri": "https://localhost:8080/"
        },
        "id": "txXIBeP078s0",
        "outputId": "af8dbd39-6783-4536-ff5a-bdfae0422b71"
      },
      "execution_count": null,
      "outputs": [
        {
          "output_type": "execute_result",
          "data": {
            "text/plain": [
              "[5, 2, 3, 4, 1]"
            ]
          },
          "metadata": {},
          "execution_count": 33
        }
      ]
    },
    {
      "cell_type": "markdown",
      "source": [
        "Q.20 **Rearrange the array with alternate high and low elements**"
      ],
      "metadata": {
        "id": "EsCaKYWB-ZOp"
      }
    },
    {
      "cell_type": "code",
      "source": [
        "def AlternateHighLow(arr):\n",
        "  n = len(arr)\n",
        "  i = 1\n",
        "  while i < n:\n",
        "    if arr[i-1] > arr[i]:\n",
        "      arr[i-1],arr[i] = arr[i],arr[i-1]\n",
        "    if arr[i+1] > arr[i]:\n",
        "      arr[i+1],arr[i] = arr[i],arr[i+1]\n",
        "    i+=2\n",
        "  return arr"
      ],
      "metadata": {
        "id": "gu0KdoGh-MJz"
      },
      "execution_count": null,
      "outputs": []
    },
    {
      "cell_type": "code",
      "source": [
        "A = [1,2,3,4,5]\n",
        "AlternateHighLow(A)"
      ],
      "metadata": {
        "colab": {
          "base_uri": "https://localhost:8080/"
        },
        "id": "Z6UmBAzDGx0M",
        "outputId": "a0284ceb-3311-43bc-8fc4-e4d4e6b7ea40"
      },
      "execution_count": null,
      "outputs": [
        {
          "output_type": "execute_result",
          "data": {
            "text/plain": [
              "[1, 3, 2, 5, 4]"
            ]
          },
          "metadata": {},
          "execution_count": 2
        }
      ]
    },
    {
      "cell_type": "markdown",
      "source": [
        "Q.21 **Equilibrium Index of an Array**\n",
        "\n",
        "Equilibrium index is the index before and after the index cummulative sum of the element is same"
      ],
      "metadata": {
        "id": "K7WRErn_G_ie"
      }
    },
    {
      "cell_type": "code",
      "source": [
        "#time and space complexity: O(n),O(1)\n",
        "def EquilibriumIndex(arr):\n",
        "  n = len(arr)\n",
        "  answer = []\n",
        "  #creating a prefix sum array\n",
        "  for i in range(1,n-1):\n",
        "    arr[i] = arr[i] + arr[i-1]\n",
        "  for idx in range(n):\n",
        "    #for left hande side\n",
        "    right = idx-1\n",
        "    if right < 0:\n",
        "      left_sum = 0\n",
        "    else:\n",
        "      left_sum = arr[right]\n",
        "    #for right hande side\n",
        "    left = idx + 1\n",
        "    right_sum = arr[n-1] - arr[left-1]\n",
        "\n",
        "    if left_sum == right_sum:\n",
        "      answer.append(idx)\n",
        "  \n",
        "  if len(answer) != 0:\n",
        "    return answer\n",
        "  else:\n",
        "    return -1\n",
        "\n",
        "    \n",
        "\n"
      ],
      "metadata": {
        "id": "0tY7v75MG2K5"
      },
      "execution_count": null,
      "outputs": []
    },
    {
      "cell_type": "code",
      "source": [
        "arr= [-3,5,-4,-2,3,1,0]\n",
        "EquilibriumIndex(arr)"
      ],
      "metadata": {
        "colab": {
          "base_uri": "https://localhost:8080/"
        },
        "id": "uGTmUBtWPuiq",
        "outputId": "9e7d4b92-c486-4c98-b173-92d709c75fc0"
      },
      "execution_count": null,
      "outputs": [
        {
          "output_type": "execute_result",
          "data": {
            "text/plain": [
              "[2, 6]"
            ]
          },
          "metadata": {},
          "execution_count": 6
        }
      ]
    },
    {
      "cell_type": "markdown",
      "source": [
        "Q.22 **Find maximum difference between two elements in the array by satisfying given constraints**  \n",
        "\n",
        "constrain: Smaller number appears before the larger number"
      ],
      "metadata": {
        "id": "uRKmbEz1Rz0K"
      }
    },
    {
      "cell_type": "code",
      "source": [
        "def Maxdiff(arr):\n",
        "  n = len(arr)\n",
        "  max_val = arr[n-1]\n",
        "  max_diff = 0\n",
        "  i = n-1\n",
        "  while i >= 0:\n",
        "    if arr[i] > max_val:\n",
        "      max_val = arr[i]\n",
        "    diff = max_val - A[i]\n",
        "    if diff > max_diff:\n",
        "      max_diff = diff\n",
        "    i-=1\n",
        "  return max_diff"
      ],
      "metadata": {
        "id": "kim50PGwP4P9"
      },
      "execution_count": null,
      "outputs": []
    },
    {
      "cell_type": "code",
      "source": [
        "A = [2,7,9,5,1,3,5]\n",
        "Maxdiff(A)"
      ],
      "metadata": {
        "colab": {
          "base_uri": "https://localhost:8080/"
        },
        "id": "dZ3dI_Vafz6l",
        "outputId": "0ce87908-e1bc-44f2-e62d-e127e25d8e98"
      },
      "execution_count": null,
      "outputs": [
        {
          "output_type": "execute_result",
          "data": {
            "text/plain": [
              "7"
            ]
          },
          "metadata": {},
          "execution_count": 18
        }
      ]
    },
    {
      "cell_type": "markdown",
      "source": [
        "Q.23 **Maximum Sum Subarray Problem (Kadane’s Algorithm)**"
      ],
      "metadata": {
        "id": "asmkl2sH61Bx"
      }
    },
    {
      "cell_type": "code",
      "source": [
        "#time and space complexity : O(n),O(1)\n",
        "def MaxsumSubarray(arr):\n",
        "  n = len(arr)\n",
        "  current_sum = 0\n",
        "  max_sum = float('-inf')\n",
        "  for i in range(n):\n",
        "    current_sum+=arr[i]\n",
        "    current_sum = max(current_sum,A[i])\n",
        "    max_sum = max(max_sum,current_sum)\n",
        "  return max_sum"
      ],
      "metadata": {
        "id": "VIqbCE0af3gJ"
      },
      "execution_count": null,
      "outputs": []
    },
    {
      "cell_type": "code",
      "source": [
        "A = [-2,1,-3,4,-1,2,1]\n",
        "MaxsumSubarray(A)"
      ],
      "metadata": {
        "colab": {
          "base_uri": "https://localhost:8080/"
        },
        "id": "dUSxL4AgBYVZ",
        "outputId": "9e83b46e-8c0e-4abe-9c5f-443d6e003ac7"
      },
      "execution_count": null,
      "outputs": [
        {
          "output_type": "execute_result",
          "data": {
            "text/plain": [
              "6"
            ]
          },
          "metadata": {},
          "execution_count": 2
        }
      ]
    },
    {
      "cell_type": "markdown",
      "source": [
        "Q.24 **Print continuous subarray with maximum sum**"
      ],
      "metadata": {
        "id": "jnLcBK8HCYFZ"
      }
    },
    {
      "cell_type": "code",
      "source": [
        "#time and space complexity : O(n),O(1)\n",
        "def MaxsumsubarrayPrint(arr):\n",
        "  n = len(arr)\n",
        "  start = end = 0\n",
        "  curr_sum = 0\n",
        "  max_sum = float(\"-inf\")\n",
        "  for i in range(n):\n",
        "    curr_sum +=arr[i]\n",
        "    if curr_sum < arr[i]:\n",
        "      curr_sum = arr[i]\n",
        "      start = i\n",
        "    if max_sum < curr_sum:\n",
        "      max_sum = curr_sum\n",
        "      end = i\n",
        "  return arr[start:end+1]\n",
        "      "
      ],
      "metadata": {
        "id": "fkEmT0DlBg5E"
      },
      "execution_count": null,
      "outputs": []
    },
    {
      "cell_type": "code",
      "source": [
        "MaxsumsubarrayPrint(A)"
      ],
      "metadata": {
        "colab": {
          "base_uri": "https://localhost:8080/"
        },
        "id": "Z46iNC5HHfVx",
        "outputId": "22ea0cf6-615a-4015-8e96-3afcfbecc6aa"
      },
      "execution_count": null,
      "outputs": [
        {
          "output_type": "execute_result",
          "data": {
            "text/plain": [
              "[4, -1, 2, 1]"
            ]
          },
          "metadata": {},
          "execution_count": 17
        }
      ]
    },
    {
      "cell_type": "markdown",
      "source": [
        "Q.25 **Maximum Sum Circular Subarray**"
      ],
      "metadata": {
        "id": "MOjXMY9rIgBP"
      }
    },
    {
      "cell_type": "code",
      "source": [
        "#time and space complexity : O(n),O(1)\n",
        "def maxSumCircularSubarray(arr):\n",
        "  #kadden on original array\n",
        "  n = len(arr)\n",
        "  curr_sum = 0\n",
        "  kadden_original = MaxsumSubarray(arr)  #defined in Q.23\n",
        "  for i in range(n):\n",
        "    curr_sum+=arr[i]\n",
        "  #creating -arr \n",
        "  for i in range(n):\n",
        "    arr[i] = -arr[i]\n",
        "  #Apply kadden algo on modified array\n",
        "  kadden_modified = MaxsumSubarray(arr)\n",
        "\n",
        "  return max(kadden_original, kadden_modified + curr_sum)\n",
        "   "
      ],
      "metadata": {
        "id": "JQ_Hhs1gIO5E"
      },
      "execution_count": null,
      "outputs": []
    },
    {
      "cell_type": "code",
      "source": [
        "A = [5,2,-5,-2,-1,8,3]\n",
        "maxSumCircularSubarray(A)"
      ],
      "metadata": {
        "colab": {
          "base_uri": "https://localhost:8080/"
        },
        "id": "s4LKwKqQNG4v",
        "outputId": "1bd1be50-6a85-459e-d41f-05c778fbda59"
      },
      "execution_count": null,
      "outputs": [
        {
          "output_type": "execute_result",
          "data": {
            "text/plain": [
              "18"
            ]
          },
          "metadata": {},
          "execution_count": 22
        }
      ]
    },
    {
      "cell_type": "markdown",
      "source": [
        "Q.26 **Find the length of smallest subarray whose sum of elements is greater than the given number**\n",
        "\n",
        "Sliding window concept"
      ],
      "metadata": {
        "id": "kboLTeFvVIcQ"
      }
    },
    {
      "cell_type": "code",
      "source": [
        "def smallestSubarray(arr,k):\n",
        "  n = len(arr)\n",
        "  left = right = 0\n",
        "  curr_sum = 0\n",
        "  answer = float('inf')\n",
        "  while right < n:\n",
        "    curr_sum+=arr[right]\n",
        "    while left <= right and curr_sum > k:\n",
        "       answer = min(answer,(right - left)+1)\n",
        "       curr_sum-=arr[left]\n",
        "       left+=1\n",
        "    right+=1\n",
        "  return answer"
      ],
      "metadata": {
        "id": "UI1fdv0vNKTf"
      },
      "execution_count": null,
      "outputs": []
    },
    {
      "cell_type": "code",
      "source": [
        "A = [1,4,6,45,0,9]\n",
        "smallestSubarray(A,51)"
      ],
      "metadata": {
        "colab": {
          "base_uri": "https://localhost:8080/"
        },
        "id": "KdPb3GHgXyBi",
        "outputId": "95d566da-2e9b-4340-a71b-087c0d998d2f"
      },
      "execution_count": null,
      "outputs": [
        {
          "output_type": "execute_result",
          "data": {
            "text/plain": [
              "3"
            ]
          },
          "metadata": {},
          "execution_count": 40
        }
      ]
    },
    {
      "cell_type": "markdown",
      "source": [
        "Q.27 **Find the smallest window in array sorting which will make the entire array sorted**"
      ],
      "metadata": {
        "id": "EfV3b_-LPTfP"
      }
    },
    {
      "cell_type": "code",
      "source": [
        "def smallestWindow(arr):\n",
        "  n = len(arr)\n",
        "  max_sofar = float('-inf')\n",
        "  min_sofar = float('inf')\n",
        "  left, right = 0,0\n",
        "  i = 0\n",
        "  #left to right traversal\n",
        "  while i<n:\n",
        "    max_sofar = max(max_sofar,arr[i])\n",
        "    if arr[i] < max_sofar:\n",
        "      right = i\n",
        "    i+=1\n",
        "\n",
        "#right traversal\n",
        "  j = n - 1\n",
        "  while j >= 0:\n",
        "    min_sofar = min(min_sofar,arr[j])\n",
        "    if arr[j] > min_sofar :\n",
        "      left = j\n",
        "    j-=1\n",
        "  return (left,right)"
      ],
      "metadata": {
        "id": "vVXZaBjJUwlZ"
      },
      "execution_count": null,
      "outputs": []
    },
    {
      "cell_type": "code",
      "source": [
        "A = [1,2,3,4,7,5,6,8]\n",
        "smallestWindow(A)"
      ],
      "metadata": {
        "colab": {
          "base_uri": "https://localhost:8080/"
        },
        "id": "O3zPKhGHRRG5",
        "outputId": "40dece93-645c-4453-e108-c92c61f7ba2e"
      },
      "execution_count": null,
      "outputs": [
        {
          "output_type": "execute_result",
          "data": {
            "text/plain": [
              "(4, 6)"
            ]
          },
          "metadata": {},
          "execution_count": 6
        }
      ]
    },
    {
      "cell_type": "markdown",
      "source": [
        "Q.28 **Find maximum sum path involving elements of given arrays**"
      ],
      "metadata": {
        "id": "b0msS6pHR3mg"
      }
    },
    {
      "cell_type": "code",
      "source": [
        "def MaxsumPath(A,B):\n",
        "  sumx,sumy = 0,0\n",
        "  max_sum = 0\n",
        "  i,j=0,0\n",
        "  n = len(A)\n",
        "  m = len(B)\n",
        "  while i < n and j < m:\n",
        "    #handling the duplicate case(Edge case)\n",
        "    while i < n-1 and A[i]==A[i+1]:\n",
        "      sumx+=A[i]\n",
        "      i+=1\n",
        "    while j < m-1 and B[j]==B[j+1]:\n",
        "      sumy+=B[j]\n",
        "      j+=1\n",
        "\n",
        "    if A[i] < B[j]:\n",
        "      sumx+=A[i]\n",
        "      i+=1\n",
        "    elif A[i] > B[j]:\n",
        "      sumy+=B[j]\n",
        "      j+=1\n",
        "    else:\n",
        "      max_sum += max(sumx,sumy) + A[i]\n",
        "      i+=1\n",
        "      j+=1\n",
        "      sumx,sumy = 0,0\n",
        "\n",
        " #handling the left over case\n",
        "  while i < n:\n",
        "    sumx+=A[i]\n",
        "    i+=1\n",
        "  while j < m:\n",
        "    sumy+=B[j]\n",
        "    j+=1\n",
        "  max_sum += max(sumx,sumy)\n",
        "\n",
        "  return max_sum "
      ],
      "metadata": {
        "id": "xgapeBIluK5p"
      },
      "execution_count": 16,
      "outputs": []
    },
    {
      "cell_type": "code",
      "source": [
        "A = [1,2,3,4,5]\n",
        "B = [1,2,3]\n",
        "MaxsumPath(A,B)"
      ],
      "metadata": {
        "colab": {
          "base_uri": "https://localhost:8080/"
        },
        "id": "XlvDElerXSs2",
        "outputId": "63a88279-b599-4a0b-b8a6-308702f16836"
      },
      "execution_count": 17,
      "outputs": [
        {
          "output_type": "execute_result",
          "data": {
            "text/plain": [
              "15"
            ]
          },
          "metadata": {},
          "execution_count": 17
        }
      ]
    },
    {
      "cell_type": "markdown",
      "source": [
        "Q.29 **Maximum profit earned by buying and selling shares any number of times**"
      ],
      "metadata": {
        "id": "AReiSD5wYuSb"
      }
    },
    {
      "cell_type": "code",
      "source": [
        "#time and space complexities: O(n),O(1)\n",
        "def Maxprofit(price):\n",
        "  #price is an array of stock price, sell at the peak price. buy at the lowest price. \n",
        "  n = len(price)\n",
        "  buy =0\n",
        "  profit = 0\n",
        "  for i in range(1,n):\n",
        "    if price[i-1] > price[i]:\n",
        "      buy = i\n",
        "    if price[i]>=price[i-1] and (i+1== n or price[i]> price[i+1]):\n",
        "      profit+= price[i] - price[buy]\n",
        "  return profit"
      ],
      "metadata": {
        "id": "qI7IQEh8XX0r"
      },
      "execution_count": 21,
      "outputs": []
    },
    {
      "cell_type": "code",
      "source": [
        "profit = [1,5,2,3,7,6,4,5]\n",
        "Maxprofit(profit)"
      ],
      "metadata": {
        "colab": {
          "base_uri": "https://localhost:8080/"
        },
        "id": "3AvfUHEbeym3",
        "outputId": "8634899f-0e9e-4bc3-a6d6-a39cb5c68490"
      },
      "execution_count": 22,
      "outputs": [
        {
          "output_type": "execute_result",
          "data": {
            "text/plain": [
              "10"
            ]
          },
          "metadata": {},
          "execution_count": 22
        }
      ]
    },
    {
      "cell_type": "markdown",
      "source": [
        "Q.30 **Trapping Rain Water within given set of bars**\n",
        "\n",
        "Given heights of bars, find out maximum height of a water"
      ],
      "metadata": {
        "id": "X_VzkbXRfXmt"
      }
    },
    {
      "cell_type": "code",
      "source": [
        "#time and space complexity: O(n),O(1)\n",
        "def Watertrapp(height):\n",
        "  n = len(height)\n",
        "  max_left = max_right = float('-inf')\n",
        "  water_column = 0\n",
        "  l = 0\n",
        "  r = n-1\n",
        "  while l < r:\n",
        "    if height[l] > height[r]:\n",
        "      max_right = max(max_right, height[r])\n",
        "      water_column+=max_right - height[r]\n",
        "      r-=1\n",
        "    if height[l] < height[r]:\n",
        "      max_left = max(max_left, height[l])\n",
        "      water_column+=max_left - height[l]\n",
        "      l+=1\n",
        "  return water_column\n",
        "\n",
        "\n",
        "    \n"
      ],
      "metadata": {
        "id": "64nenDWGfJXd"
      },
      "execution_count": 27,
      "outputs": []
    },
    {
      "cell_type": "code",
      "source": [
        "h= [4,0,2,3,5,0,3,1,2]\n",
        "Watertrapp(h)"
      ],
      "metadata": {
        "colab": {
          "base_uri": "https://localhost:8080/"
        },
        "id": "ufAXT3Cah6Z6",
        "outputId": "b7274efc-573e-4154-9977-8bcb3fb76c40"
      },
      "execution_count": 28,
      "outputs": [
        {
          "output_type": "execute_result",
          "data": {
            "text/plain": [
              "11"
            ]
          },
          "metadata": {},
          "execution_count": 28
        }
      ]
    },
    {
      "cell_type": "markdown",
      "source": [
        "Q.31 **Find minimum platforms needed in the station so to avoid any delay in arrival of any train**"
      ],
      "metadata": {
        "id": "fLgozUrKq9aA"
      }
    },
    {
      "cell_type": "code",
      "source": [
        "def MinimumPlatform(arrival,departure):\n",
        "  n = len(arrival)\n",
        "  arrival.sort()\n",
        "  departure.sort()\n",
        "  i = j = 0\n",
        "  totalPlatform = 0\n",
        "  currentPlatform = 0\n",
        "  while i < n:\n",
        "    if arrival[i] < departure[j]:\n",
        "      currentPlatform+=1\n",
        "      totalPlatform = max(totalPlatform, currentPlatform)\n",
        "      i+=1\n",
        "    else:\n",
        "      currentPlatform-=1\n",
        "      j+=1\n",
        "  return totalPlatform"
      ],
      "metadata": {
        "id": "9_FeYpoLie1z"
      },
      "execution_count": 29,
      "outputs": []
    },
    {
      "cell_type": "code",
      "source": [
        "Arrival = [2.0,2.10,3.00,3.20,3.50,5.00]\n",
        "Departure = [2.30,3.20,3.40,4.00,4.30,5.20]\n",
        "MinimumPlatform(Arrival,Departure)"
      ],
      "metadata": {
        "colab": {
          "base_uri": "https://localhost:8080/"
        },
        "id": "c3A9seCb0bNq",
        "outputId": "dba6ddb2-e2b3-4d82-c85d-1e2283d1f186"
      },
      "execution_count": 30,
      "outputs": [
        {
          "output_type": "execute_result",
          "data": {
            "text/plain": [
              "2"
            ]
          },
          "metadata": {},
          "execution_count": 30
        }
      ]
    },
    {
      "cell_type": "markdown",
      "source": [
        "Q.32 **Decode the array constructed from another array**"
      ],
      "metadata": {
        "id": "0ZbNEGFM1DqL"
      }
    },
    {
      "cell_type": "code",
      "source": [
        "def Decodearray(A):\n",
        "  m = len(A)\n",
        "  #edge case\n",
        "  if m==0 or m==2:\n",
        "    return \n",
        "  #compute the length of the original array\n",
        "  n = ((1+8*m)**0.5 + 1)/2"
      ],
      "metadata": {
        "id": "bCp3CzPT0-9u"
      },
      "execution_count": null,
      "outputs": []
    },
    {
      "cell_type": "code",
      "source": [
        ""
      ],
      "metadata": {
        "id": "LVza9hZrGfj8"
      },
      "execution_count": null,
      "outputs": []
    }
  ]
}