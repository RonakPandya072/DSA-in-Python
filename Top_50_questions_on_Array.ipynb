{
  "nbformat": 4,
  "nbformat_minor": 0,
  "metadata": {
    "colab": {
      "name": "Top 50 questions on Array.ipynb",
      "provenance": [],
      "collapsed_sections": [],
      "authorship_tag": "ABX9TyOaaLhrZKFeVepQgOjalVfF",
      "include_colab_link": true
    },
    "kernelspec": {
      "name": "python3",
      "display_name": "Python 3"
    },
    "language_info": {
      "name": "python"
    }
  },
  "cells": [
    {
      "cell_type": "markdown",
      "metadata": {
        "id": "view-in-github",
        "colab_type": "text"
      },
      "source": [
        "<a href=\"https://colab.research.google.com/github/RonakPandya072/DSA-in-Python/blob/main/Top_50_questions_on_Array.ipynb\" target=\"_parent\"><img src=\"https://colab.research.google.com/assets/colab-badge.svg\" alt=\"Open In Colab\"/></a>"
      ]
    },
    {
      "cell_type": "markdown",
      "source": [
        "# Basic Problem - Level 1"
      ],
      "metadata": {
        "id": "7f4PAa7e389-"
      }
    },
    {
      "cell_type": "markdown",
      "source": [
        "Q.1 **Peak element**\n",
        "An element is called a peak element if its value is not smaller than the value of its adjacent elements(if they exists).\n",
        "Given an array arr[] of size N, find the index of any one of its peak elements.\n",
        "Note: The generated output will always be 1 if the index that you return is correct. Otherwise output will be 0. \n",
        "\n",
        "Link:https://practice.geeksforgeeks.org/problems/peak-element/1#\n"
      ],
      "metadata": {
        "id": "Q2zKECfvybMz"
      }
    },
    {
      "cell_type": "code",
      "source": [
        "'''def peakElement(arr, n):\n",
        "        return arr.index(max(arr))'''\n",
        "\n",
        "def peakElement(arr,n):\n",
        "  peak = 0\n",
        "  for i in range(n-1):\n",
        "    if arr[i]<arr[i+1]:\n",
        "      peak+=1\n",
        "  return peak"
      ],
      "metadata": {
        "id": "1AYw5K08ykLo"
      },
      "execution_count": null,
      "outputs": []
    },
    {
      "cell_type": "code",
      "source": [
        "peakElement([1,2,3],3)"
      ],
      "metadata": {
        "colab": {
          "base_uri": "https://localhost:8080/"
        },
        "id": "9DAizfABypRJ",
        "outputId": "5e229806-1cbf-47ff-ddca-fb0078313c5d"
      },
      "execution_count": null,
      "outputs": [
        {
          "output_type": "execute_result",
          "data": {
            "text/plain": [
              "2"
            ]
          },
          "metadata": {},
          "execution_count": 11
        }
      ]
    },
    {
      "cell_type": "markdown",
      "source": [
        "Q.2 **Find minimum and maximum element in an array**\n",
        "\n",
        "Given an array A of size N of integers. Your task is to find the minimum and maximum elements in the array.\n",
        "\n",
        "Link: https://practice.geeksforgeeks.org/problems/find-minimum-and-maximum-element-in-an-array4428/1"
      ],
      "metadata": {
        "id": "YvFZ9FfBwA4x"
      }
    },
    {
      "cell_type": "code",
      "source": [
        "def getMinMax(a, n):\n",
        "    max = 0\n",
        "    min = a[0]\n",
        "    for i in range(n):\n",
        "        if a[i] > max:\n",
        "            max = a[i]\n",
        "        if a[i] < min:\n",
        "            min = a[i]\n",
        "    print(\"min =\", min,\"max =\",max)\n",
        "    "
      ],
      "metadata": {
        "id": "7XBTsxo9xTJa"
      },
      "execution_count": null,
      "outputs": []
    },
    {
      "cell_type": "code",
      "source": [
        "A = [3, 2, 1, 56, 10000, 167]\n",
        "getMinMax(A,len(A))"
      ],
      "metadata": {
        "colab": {
          "base_uri": "https://localhost:8080/"
        },
        "id": "_zN1FScuxUnx",
        "outputId": "9dc415d0-d87d-4b38-e305-20284a966d1b"
      },
      "execution_count": null,
      "outputs": [
        {
          "output_type": "stream",
          "name": "stdout",
          "text": [
            "min = 1 max = 10000\n"
          ]
        }
      ]
    },
    {
      "cell_type": "markdown",
      "source": [
        "Q.3 **Reverse a String**\n",
        "\n",
        "\n",
        "You are given a string s. You need to reverse the string.\n",
        "\n",
        "link: https://practice.geeksforgeeks.org/problems/reverse-a-string/1"
      ],
      "metadata": {
        "id": "yTul2QjqzcYp"
      }
    },
    {
      "cell_type": "code",
      "source": [
        "def reverseWord(s):\n",
        "    return s[::-1]"
      ],
      "metadata": {
        "id": "ceN1Am8-xbWe"
      },
      "execution_count": null,
      "outputs": []
    },
    {
      "cell_type": "code",
      "source": [
        "reverseWord(\"Geeks\")"
      ],
      "metadata": {
        "colab": {
          "base_uri": "https://localhost:8080/",
          "height": 35
        },
        "id": "pqaMuQA30RUW",
        "outputId": "f391b7ab-9d89-4c92-99c1-ec02749481f5"
      },
      "execution_count": null,
      "outputs": [
        {
          "output_type": "execute_result",
          "data": {
            "application/vnd.google.colaboratory.intrinsic+json": {
              "type": "string"
            },
            "text/plain": [
              "'skeeG'"
            ]
          },
          "metadata": {},
          "execution_count": 22
        }
      ]
    },
    {
      "cell_type": "markdown",
      "source": [
        "Q.4 **Sort The Array**\n",
        "\n",
        "Given a random set of numbers, Print them in sorted order.\n",
        "\n",
        "Link: https://practice.geeksforgeeks.org/problems/sort-the-array0055/1"
      ],
      "metadata": {
        "id": "72syt5MT1PTY"
      }
    },
    {
      "cell_type": "code",
      "source": [
        "def sortArr(arr, n): \n",
        "        #code here\n",
        "        return list(sorted(arr))"
      ],
      "metadata": {
        "id": "IHvyZe70AkNU"
      },
      "execution_count": null,
      "outputs": []
    },
    {
      "cell_type": "code",
      "source": [
        "sortArr([5,7,2,0,8,2],6)"
      ],
      "metadata": {
        "colab": {
          "base_uri": "https://localhost:8080/"
        },
        "id": "Jldnt77KC6aO",
        "outputId": "fa76c3d3-c5e0-4d19-eca7-5f6c27ac6550"
      },
      "execution_count": null,
      "outputs": [
        {
          "output_type": "execute_result",
          "data": {
            "text/plain": [
              "[0, 2, 2, 5, 7, 8]"
            ]
          },
          "metadata": {},
          "execution_count": 43
        }
      ]
    },
    {
      "cell_type": "markdown",
      "source": [
        "Q.5 **Kth smallest element**\n",
        "\n",
        "Given an array arr[] and an integer K where K is smaller than size of array, the task is to find the Kth smallest element in the given array. It is given that all array elements are distinct.\n",
        "\n",
        "Link: https://practice.geeksforgeeks.org/problems/kth-smallest-element5635/1"
      ],
      "metadata": {
        "id": "3qs7p7PIDNAi"
      }
    },
    {
      "cell_type": "code",
      "source": [
        "#this can be done by priority queue(heap) try using this method when you learn the concept\n",
        "def kthSmallest(arr, l, r, k):\n",
        "        '''\n",
        "        arr : given array\n",
        "        l : starting index of the array i.e 0\n",
        "        r : ending index of the array i.e size-1\n",
        "        k : find kth smallest element and return using this function\n",
        "        '''\n",
        "      #this can be done by priority queue(heap) try using this method when you learn the concept\n",
        "        arr.sort()\n",
        "        return arr[k-1]"
      ],
      "metadata": {
        "id": "3_oagXqfC_mN"
      },
      "execution_count": null,
      "outputs": []
    },
    {
      "cell_type": "markdown",
      "source": [
        "Q.6 **Find the Frequency**\n",
        "\n",
        "Given a vector of N positive integers and an integer X. The task is to find the frequency of X in vector.\n",
        "\n",
        "Link: https://practice.geeksforgeeks.org/problems/find-the-frequency/1"
      ],
      "metadata": {
        "id": "Ohb8qvUKHkBX"
      }
    },
    {
      "cell_type": "code",
      "source": [
        "def findFrequency (arr, n, x):\n",
        "    # Your Code Here\n",
        "    frequency = 0\n",
        "    for i in range(len(arr)):\n",
        "        if arr[i] == x:\n",
        "            frequency+=1\n",
        "    return frequency"
      ],
      "metadata": {
        "id": "C16Gy5LGHeOF"
      },
      "execution_count": null,
      "outputs": []
    },
    {
      "cell_type": "markdown",
      "source": [
        "Q.7 **Sort an array of 0s, 1s and 2s**\n",
        "\n",
        "Given an array of size N containing only 0s, 1s, and 2s; sort the array in ascending order.\n",
        "\n",
        "Link: https://practice.geeksforgeeks.org/problems/sort-an-array-of-0s-1s-and-2s4231/1"
      ],
      "metadata": {
        "id": "zImGwsmpIoEf"
      }
    },
    {
      "cell_type": "code",
      "source": [
        "def sort012(arr,n):\n",
        "        fre_0 = fre_1 = fre_2 = 0\n",
        "        for i in range(n):\n",
        "            if arr[i]==0:\n",
        "                fre_0+=1\n",
        "            if arr[i]==1:\n",
        "                fre_1+=1\n",
        "            if arr[i]==2:\n",
        "                fre_2+=1\n",
        "        for i in range(0,fre_0):\n",
        "            arr[i]=0\n",
        "        for i in range(fre_0,fre_1+fre_0):\n",
        "            arr[i]=1\n",
        "        for i in range(fre_1+fre_0, fre_1+fre_0+fre_2):\n",
        "            arr[i]=2\n",
        "        \n",
        "        return arr"
      ],
      "metadata": {
        "id": "AFa6UCctIj4m"
      },
      "execution_count": null,
      "outputs": []
    },
    {
      "cell_type": "code",
      "source": [
        "sort012([1,0,2,0,2,1,1],7)"
      ],
      "metadata": {
        "colab": {
          "base_uri": "https://localhost:8080/"
        },
        "id": "9_l4kBmMKLCg",
        "outputId": "f2d727da-87e6-4428-c557-8783f00ceb6a"
      },
      "execution_count": null,
      "outputs": [
        {
          "output_type": "execute_result",
          "data": {
            "text/plain": [
              "[0, 0, 1, 1, 1, 2, 2]"
            ]
          },
          "metadata": {},
          "execution_count": 47
        }
      ]
    },
    {
      "cell_type": "markdown",
      "source": [
        "Q.8 **Subarray with given sum**\n",
        "\n",
        "Given an unsorted array A of size N that contains only non-negative integers, find a continuous sub-array which adds to a given number S.\n",
        "\n",
        "Link: https://practice.geeksforgeeks.org/problems/subarray-with-given-sum-1587115621/1"
      ],
      "metadata": {
        "id": "LHcBclmUKb-5"
      }
    },
    {
      "cell_type": "code",
      "source": [
        "def subArraySum(arr, n, s):\n",
        "        low = i = sum= 0\n",
        "        hi = n-1\n",
        "        while i < n:\n",
        "          if sum < s:\n",
        "            sum+=arr[i]\n",
        "            i+=1\n",
        "\n",
        "          if sum==s:\n",
        "            return [low+1,i+1]\n",
        "          \n",
        "          if sum > s:\n",
        "            while(sum > s):\n",
        "              sum-=arr[low]\n",
        "              low+=1\n",
        "\n",
        "              if sum==s:\n",
        "                return[low+1,i]\n",
        "              i+=1\n",
        "            return -1\n"
      ],
      "metadata": {
        "id": "gLZ6CoWEKVpc"
      },
      "execution_count": null,
      "outputs": []
    },
    {
      "cell_type": "markdown",
      "source": [
        "Q.9 **Move all negative elements to end**\n",
        "\n",
        "\n",
        "Given an unsorted array arr[] of size N having both negative and positive integers. The task is place all negative element at the end of array without changing the order of positive element and negative element.\n",
        "\n",
        "Link:\n",
        "https://practice.geeksforgeeks.org/problems/move-all-negative-elements-to-end1813/1"
      ],
      "metadata": {
        "id": "PvjTJtaS-Kc_"
      }
    },
    {
      "cell_type": "code",
      "source": [
        "def segregateElements(arr, n):\n",
        "  temp=[0]*n\n",
        "  j = 0\n",
        "  for i in range(n):\n",
        "    if arr[i] > 0:\n",
        "      temp[j] = arr[i]\n",
        "      j+=1\n",
        "  for i in range(n):\n",
        "    if arr[i]<0:\n",
        "      temp[j] = arr[i]\n",
        "      j+=1\n",
        "  return temp"
      ],
      "metadata": {
        "id": "-T1CzjLgS-ee"
      },
      "execution_count": null,
      "outputs": []
    },
    {
      "cell_type": "code",
      "source": [
        "A=[1,-1,3,2,-7,-5,11,6]"
      ],
      "metadata": {
        "id": "7Iy3O3Sd_2y4"
      },
      "execution_count": null,
      "outputs": []
    },
    {
      "cell_type": "code",
      "source": [
        "segregateElements(A,8)"
      ],
      "metadata": {
        "colab": {
          "base_uri": "https://localhost:8080/"
        },
        "id": "YcvcPMWYAAVh",
        "outputId": "b062f14c-fb2c-4948-888b-dc57fd0725df"
      },
      "execution_count": null,
      "outputs": [
        {
          "output_type": "execute_result",
          "data": {
            "text/plain": [
              "[1, 3, 2, 11, 6, -1, -7, -5]"
            ]
          },
          "metadata": {},
          "execution_count": 44
        }
      ]
    },
    {
      "cell_type": "markdown",
      "source": [
        "Q.10 **Union of two array**\n",
        "\n",
        "Given two arrays a[] and b[] of size n and m respectively. The task is to find union between these two arrays.\n",
        "\n",
        "Union of the two arrays can be defined as the set containing distinct elements from both the arrays. If there are repetitions, then only one occurrence of element should be printed in the union.\n",
        "\n",
        "Link:https://practice.geeksforgeeks.org/problems/union-of-two-arrays3538/1"
      ],
      "metadata": {
        "id": "2i6sHQnfCaZX"
      }
    },
    {
      "cell_type": "code",
      "source": [
        "def doUnion(a,n,b,m):\n",
        "  Set = set(a)\n",
        "  for i in range(m):\n",
        "    Set.add(b[i])\n",
        "  count = 0\n",
        "  for i in range(len(Set)):\n",
        "    count+=1\n",
        "  return count"
      ],
      "metadata": {
        "id": "3ixxhRXXAD8Q"
      },
      "execution_count": null,
      "outputs": []
    },
    {
      "cell_type": "code",
      "source": [
        "doUnion([1,2,3,4,5],5,[1,2,3,4],4)"
      ],
      "metadata": {
        "colab": {
          "base_uri": "https://localhost:8080/"
        },
        "id": "bTGD7HpDDb-U",
        "outputId": "8ca8a1cd-96af-40c6-df17-17af482779b4"
      },
      "execution_count": null,
      "outputs": [
        {
          "output_type": "execute_result",
          "data": {
            "text/plain": [
              "5"
            ]
          },
          "metadata": {},
          "execution_count": 48
        }
      ]
    },
    {
      "cell_type": "markdown",
      "source": [
        "#Level 2"
      ],
      "metadata": {
        "id": "X9oxjXPfEc2G"
      }
    },
    {
      "cell_type": "markdown",
      "source": [
        "Q.1 **Cyclically rotate an array by one**\n",
        "\n",
        "Given an array, rotate the array by one position in clock-wise direction.\n",
        "\n",
        "Link:https://practice.geeksforgeeks.org/problems/cyclically-rotate-an-array-by-one2614/1"
      ],
      "metadata": {
        "id": "R_X6lh2YEk1x"
      }
    },
    {
      "cell_type": "code",
      "source": [
        "def rotate(arr, n):  #Ingeneral function to rotate an array clock wise direction\n",
        "    k = 1\n",
        "    (arr[k:],arr[:k])=(arr[:-k],arr[-k:])\n",
        "    return arr\n"
      ],
      "metadata": {
        "id": "tSQPXKJ9DpMr"
      },
      "execution_count": null,
      "outputs": []
    },
    {
      "cell_type": "code",
      "source": [
        "A = [1,2,3,4,5]\n",
        "rotate(A,5)"
      ],
      "metadata": {
        "colab": {
          "base_uri": "https://localhost:8080/"
        },
        "id": "u44Sp2mWF6YS",
        "outputId": "87c3fdee-6ec5-46b8-894b-2c534c59f8ef"
      },
      "execution_count": null,
      "outputs": [
        {
          "output_type": "execute_result",
          "data": {
            "text/plain": [
              "[5, 1, 2, 3, 4]"
            ]
          },
          "metadata": {},
          "execution_count": 61
        }
      ]
    },
    {
      "cell_type": "markdown",
      "source": [
        "Q.2 **Missing number in array**\n",
        "\n",
        "Given an array of size N-1 such that it only contains distinct integers in the range of 1 to N. Find the missing element.\n",
        "\n",
        "Link: https://practice.geeksforgeeks.org/problems/missing-number-in-array1416/1"
      ],
      "metadata": {
        "id": "rm4N7dKOGa0j"
      }
    },
    {
      "cell_type": "code",
      "source": [
        "def MissingNumber(array,n):\n",
        "        num_list = [i for i in range(1,n+1)]\n",
        "        sum_list = sum(num_list)\n",
        "        sum_array = sum(array)\n",
        "        if sum_list==sum_array:\n",
        "            return\n",
        "        else:\n",
        "            return abs(sum_list - sum_array)"
      ],
      "metadata": {
        "id": "NnRJgZV1F_h3"
      },
      "execution_count": null,
      "outputs": []
    },
    {
      "cell_type": "code",
      "source": [
        "A=[2]\n",
        "MissingNumber(A,1)"
      ],
      "metadata": {
        "colab": {
          "base_uri": "https://localhost:8080/"
        },
        "id": "RHbHskY0HLHt",
        "outputId": "56c2b303-8038-4827-e497-78938642d233"
      },
      "execution_count": null,
      "outputs": [
        {
          "output_type": "execute_result",
          "data": {
            "text/plain": [
              "1"
            ]
          },
          "metadata": {},
          "execution_count": 81
        }
      ]
    },
    {
      "cell_type": "markdown",
      "source": [
        "Q.3 **Count pairs with given sum**\n",
        "\n",
        "Given an array of N integers, and an integer K, find the number of pairs of elements in the array whose sum is equal to K.\n",
        "\n",
        "Link:\n",
        "https://practice.geeksforgeeks.org/problems/count-pairs-with-given-sum5022/1"
      ],
      "metadata": {
        "id": "mqa-ccjGM6wa"
      }
    },
    {
      "cell_type": "code",
      "source": [
        "#Use Map concept to solve the question"
      ],
      "metadata": {
        "id": "InCRR8_BHSBP"
      },
      "execution_count": null,
      "outputs": []
    },
    {
      "cell_type": "markdown",
      "source": [
        "Q.4 **Find duplicates in an array**\n",
        "\n",
        "Given an array a[] of size N which contains elements from 0 to N-1, you need to find all the elements occurring more than once in the given array.\n",
        "\n",
        "Link:\n",
        "https://practice.geeksforgeeks.org/problems/find-duplicates-in-an-array/1"
      ],
      "metadata": {
        "id": "kHyIq0XLQN7I"
      }
    },
    {
      "cell_type": "code",
      "source": [
        "def duplicates(arr, n):\n",
        "  S = set()\n",
        "  result = 0\n",
        "  for i in range(n):\n",
        "    if arr.count(arr[i])>1:\n",
        "      S.add(arr[i])\n",
        "      result+=1\n",
        "  if result > 0:\n",
        "    return S\n",
        "  else:\n",
        "    return -1"
      ],
      "metadata": {
        "id": "M9UoXdtAQNNe"
      },
      "execution_count": null,
      "outputs": []
    },
    {
      "cell_type": "code",
      "source": [
        "duplicates([2,3,1,2,3,8,7,5,55,55,2,8,5],12)"
      ],
      "metadata": {
        "colab": {
          "base_uri": "https://localhost:8080/"
        },
        "id": "gzhmVI3VRrvL",
        "outputId": "22e3b888-3ff9-4e4a-eee6-b63d0bec6860"
      },
      "execution_count": null,
      "outputs": [
        {
          "output_type": "execute_result",
          "data": {
            "text/plain": [
              "{2, 3, 5, 8, 55}"
            ]
          },
          "metadata": {},
          "execution_count": 110
        }
      ]
    },
    {
      "cell_type": "markdown",
      "source": [
        "Q.5 **Quick Sort**\n",
        "\n",
        "Quick Sort is a Divide and Conquer algorithm. It picks an element as pivot and partitions the given array around the picked pivot.\n",
        "Given an array arr[], its starting position low and its ending position high.\n",
        "\n",
        "Implement the partition() and quickSort() functions to sort the array.\n",
        "\n",
        "Link: https://practice.geeksforgeeks.org/problems/quick-sort/1"
      ],
      "metadata": {
        "id": "YCg7wMKSV_ke"
      }
    },
    {
      "cell_type": "code",
      "source": [
        "import numpy as np\n",
        "import math\n",
        "def quickSort(arr,low,high):\n",
        "  if(low < high):\n",
        "    j = partition(arr,low,high)\n",
        "    quickSort(arr,low,j-1)\n",
        "    quickSort(arr,j+1,high)\n",
        "  return arr\n",
        "\n",
        "def partition(arr,low,high):\n",
        "  pivot = low\n",
        "  while low < high:\n",
        "    if(arr[low] < arr[pivot]):\n",
        "      low = low + 1\n",
        "    if(arr[high] > arr[pivot]):\n",
        "      high = high -1\n",
        "    if(arr[low]>arr[high]):\n",
        "      arr[low],arr[high]=arr[high],arr[low]\n",
        "  arr[high],arr[pivot] = arr[pivot], arr[high]\n",
        "  return high"
      ],
      "metadata": {
        "id": "OPks0794SCAs"
      },
      "execution_count": null,
      "outputs": []
    },
    {
      "cell_type": "code",
      "source": [
        "A = [4,8,2,5,3,1]\n",
        "quickSort(A,0,len(A)-1)"
      ],
      "metadata": {
        "id": "0qY-Sxy3qdm9",
        "colab": {
          "base_uri": "https://localhost:8080/"
        },
        "outputId": "8bbef584-5734-41d2-c241-9b334b74b10b"
      },
      "execution_count": null,
      "outputs": [
        {
          "output_type": "execute_result",
          "data": {
            "text/plain": [
              "[1, 2, 3, 4, 5, 8]"
            ]
          },
          "metadata": {},
          "execution_count": 68
        }
      ]
    },
    {
      "cell_type": "markdown",
      "source": [
        "Q.6 **Common elements**\n",
        "\n",
        "Given three arrays sorted in increasing order. Find the elements that are common in all three arrays.\n",
        "Note: can you take care of the duplicates without using any additional Data Structure?\n",
        "\n",
        "Link:\n",
        "https://practice.geeksforgeeks.org/problems/common-elements1132/1"
      ],
      "metadata": {
        "id": "9B1viR0ZJPL7"
      }
    },
    {
      "cell_type": "code",
      "source": [
        "def commonElements(A, B, C, n1, n2, n3):\n",
        "  k = list(set(A)&set(B)&set(C))\n",
        "  k.sort()\n",
        "  return k"
      ],
      "metadata": {
        "id": "GELxfDWNJW2R"
      },
      "execution_count": null,
      "outputs": []
    },
    {
      "cell_type": "code",
      "source": [
        "A=[1,5,10,20,40,80]\n",
        "B=[6,7,20,80,100]\n",
        "C=[3,4,15,20,30,70,80,120]\n",
        "commonElements(A,B,C,len(A),len(B),len(C))"
      ],
      "metadata": {
        "colab": {
          "base_uri": "https://localhost:8080/"
        },
        "id": "FofSK-MRLJPK",
        "outputId": "4bfd9128-7aaf-4a09-a975-52614610bfb0"
      },
      "execution_count": null,
      "outputs": [
        {
          "output_type": "execute_result",
          "data": {
            "text/plain": [
              "[20, 80]"
            ]
          },
          "metadata": {},
          "execution_count": 94
        }
      ]
    },
    {
      "cell_type": "markdown",
      "source": [
        "Q.7 **First Repeating Element**\n",
        "\n",
        "Given an array arr[] of size n, find the first repeating element. The element should occurs more than once and the index of its first occurrence should be the smallest.\n",
        "\n",
        "link: https://practice.geeksforgeeks.org/problems/first-repeating-element4018/1"
      ],
      "metadata": {
        "id": "mq23ZXOwOzjT"
      }
    },
    {
      "cell_type": "code",
      "source": [
        "def firstRepeated(arr, n):\n",
        "        result = []\n",
        "        check = False\n",
        "        for i in range(n):\n",
        "            if arr[i] in arr[i+1:]:\n",
        "                result.append(arr.index(arr[i]))\n",
        "                check = True\n",
        "        \n",
        "        if check:\n",
        "            return result[0]+1\n",
        "        else:\n",
        "            return -1"
      ],
      "metadata": {
        "id": "76LSXvyXLc9h"
      },
      "execution_count": null,
      "outputs": []
    },
    {
      "cell_type": "code",
      "source": [
        "A=[7,4,0,9,4,8,8,2,4,5,5,1]\n",
        "firstRepeated(A,len(A))"
      ],
      "metadata": {
        "colab": {
          "base_uri": "https://localhost:8080/"
        },
        "id": "tHJIk2T9QPsK",
        "outputId": "31278056-65db-4cbb-cef3-afb8368fde17"
      },
      "execution_count": null,
      "outputs": [
        {
          "output_type": "execute_result",
          "data": {
            "text/plain": [
              "2"
            ]
          },
          "metadata": {},
          "execution_count": 138
        }
      ]
    },
    {
      "cell_type": "markdown",
      "source": [
        "Q.8 **Non-Repeating Element**\n",
        "\n",
        "Find the first non-repeating element in a given array arr of N integers.\n",
        "Note: Array consists of only positive and negative integers and not zero.\n",
        "\n",
        "Link:https://practice.geeksforgeeks.org/problems/non-repeating-element3958/1"
      ],
      "metadata": {
        "id": "tCLWN50WYqWV"
      }
    },
    {
      "cell_type": "code",
      "source": [
        "def firstNonRepeating(arr, n): \n",
        "        # Complete the function\n",
        "        for i in range(n):\n",
        "            a = arr.count(arr[i])\n",
        "            if a == 1:\n",
        "              return arr[i]\n",
        "        return 0"
      ],
      "metadata": {
        "id": "emTCq_RtQ9UT"
      },
      "execution_count": null,
      "outputs": []
    },
    {
      "cell_type": "code",
      "source": [
        "A = [-1,2,-1,3,2]\n",
        "firstNonRepeating(A,len(A))"
      ],
      "metadata": {
        "colab": {
          "base_uri": "https://localhost:8080/"
        },
        "id": "dMRZJpmVc2mr",
        "outputId": "c6bd0a13-03b1-4b77-9786-25157614ee17"
      },
      "execution_count": null,
      "outputs": [
        {
          "output_type": "execute_result",
          "data": {
            "text/plain": [
              "3"
            ]
          },
          "metadata": {},
          "execution_count": 153
        }
      ]
    },
    {
      "cell_type": "markdown",
      "source": [
        "Q.9 **Subarrays with equal 1s and 0s**\n",
        "\n",
        "Given an array containing 0s and 1s. Find the number of subarrays having equal number of 0s and 1s.\n",
        "\n",
        "Link: https://practice.geeksforgeeks.org/problems/count-subarrays-with-equal-number-of-1s-and-0s-1587115620/1"
      ],
      "metadata": {
        "id": "ujwTgEzkn_Ag"
      }
    },
    {
      "cell_type": "code",
      "source": [
        "counter = {0:1}"
      ],
      "metadata": {
        "id": "7_lWbd2ojrdI"
      },
      "execution_count": null,
      "outputs": []
    },
    {
      "cell_type": "markdown",
      "source": [
        "Q.10 **Check if subarray with 0 sum is exist**"
      ],
      "metadata": {
        "id": "P6KdBtLFZ04W"
      }
    },
    {
      "cell_type": "code",
      "source": [
        "#time and space complexity: O(n),O(n)\n",
        "def zeroSumsubarray(number):\n",
        "  total=0\n",
        "  n = len(number)\n",
        "  number_set = set()\n",
        "  prefix_sum=[0]*n\n",
        "  \n",
        "  for i in range(n):\n",
        "    total+=number[i]\n",
        "    prefix_sum[i] = total\n",
        "  #computed prefix sum array\n",
        "\n",
        "  for i in range(n):\n",
        "    if prefix_sum[i] in number_set:\n",
        "      return True\n",
        "    else:\n",
        "      number_set.add(prefix_sum[i])\n",
        "  if 0 in number_set:\n",
        "    return True\n",
        "  else:\n",
        "    return False\n"
      ],
      "metadata": {
        "id": "yv5vU7cBv4Ky"
      },
      "execution_count": 1,
      "outputs": []
    },
    {
      "cell_type": "markdown",
      "source": [
        "Q.11 **Print all sub arrays with 0 sum**"
      ],
      "metadata": {
        "id": "mUOR-yIzgqDZ"
      }
    },
    {
      "cell_type": "code",
      "source": [
        "#time and space complexity: O(n*n), O(n)\n",
        "def allZerosumSubarray(nums):\n",
        "  hashmap = {}\n",
        "  n = len(nums)\n",
        "  prefix_sum = [0]*n\n",
        "  for i in range(n):\n",
        "    if i==0:\n",
        "      prefix_sum[i] = nums[i]\n",
        "    else:\n",
        "      prefix_sum[i] = prefix_sum[i-1]+nums[i]\n",
        "  #prefix is calculated\n",
        "  for i in range(n):\n",
        "    if prefix_sum[i] not in hashmap:\n",
        "      hashmap[prefix_sum[i]] = [i]\n",
        "    else:\n",
        "      hashmap[prefix_sum[i]].append(i)\n",
        "    #Hashmap is created\n",
        "  print(hashmap)\n",
        "  answer = [] \n",
        "  for key, value in hashmap.items():\n",
        "    if len(value)>1 or key == 0:\n",
        "      if key ==0:\n",
        "        for val in value:\n",
        "          answer.append((0,val))\n",
        "        for j in range(len(value)-1):\n",
        "          for k in range(j+1, len(value)):\n",
        "            answer.append((value[j]+1,value[k]))\n",
        "      else:\n",
        "        for j in range(len(value)-1):\n",
        "          for k in range(j+1, len(value)):\n",
        "            answer.append((value[j]+1,value[k]))\n",
        "  return answer"
      ],
      "metadata": {
        "id": "nCyVRIdcbivr"
      },
      "execution_count": 8,
      "outputs": []
    },
    {
      "cell_type": "code",
      "source": [
        "allZerosumSubarray([4,-4,8,0,4,-4])"
      ],
      "metadata": {
        "colab": {
          "base_uri": "https://localhost:8080/"
        },
        "id": "g4p_sbGBjyHW",
        "outputId": "37edcaeb-4d2b-4f27-a1fc-e01f6e3a9974"
      },
      "execution_count": 9,
      "outputs": [
        {
          "output_type": "stream",
          "name": "stdout",
          "text": [
            "{4: [0], 0: [1], 8: [2, 3, 5], 12: [4]}\n"
          ]
        },
        {
          "output_type": "execute_result",
          "data": {
            "text/plain": [
              "[(0, 1), (3, 3), (3, 5), (4, 5)]"
            ]
          },
          "metadata": {},
          "execution_count": 9
        }
      ]
    },
    {
      "cell_type": "markdown",
      "source": [
        "Q.12 **Sort Binary array in linear Time**"
      ],
      "metadata": {
        "id": "zXc3GF7plnRJ"
      }
    },
    {
      "cell_type": "code",
      "source": [
        "#time and space complexity: O(n),O(1)\n",
        "def Binarysort(arr):\n",
        "  n = len(arr)\n",
        "  idx = start = 0\n",
        "  while idx<n:\n",
        "    if arr[idx]==0:\n",
        "      arr[idx],arr[start] = arr[start],arr[idx]\n",
        "      start+=1\n",
        "    idx+=1\n",
        "  return arr"
      ],
      "metadata": {
        "id": "fVNP53hYj6xE"
      },
      "execution_count": 10,
      "outputs": []
    },
    {
      "cell_type": "code",
      "source": [
        "Binarysort([1,0,1,1,0,0])"
      ],
      "metadata": {
        "colab": {
          "base_uri": "https://localhost:8080/"
        },
        "id": "WWHsMnfUnfll",
        "outputId": "544297d6-0ba3-491e-9100-34280c3bb392"
      },
      "execution_count": 11,
      "outputs": [
        {
          "output_type": "execute_result",
          "data": {
            "text/plain": [
              "[0, 0, 0, 1, 1, 1]"
            ]
          },
          "metadata": {},
          "execution_count": 11
        }
      ]
    },
    {
      "cell_type": "markdown",
      "source": [
        "Q.13 **Find a duplicate element in a limited range array**"
      ],
      "metadata": {
        "id": "ScB-dQfYnrW6"
      }
    },
    {
      "cell_type": "code",
      "source": [
        "#XOR concept  #limited length = if length of arr is n then it has 1 to n-1 elements only with 1 duplicate element\n",
        "#time and space complexity: O(n),O(1)\n",
        "def findDuplicate(arr):\n",
        "  n = len(arr)\n",
        "  xor_number = arr[0]\n",
        "  for i in range(1,n):\n",
        "    xor_number = xor_number ^ arr[i]\n",
        "  \n",
        "  for i in range(1,n):\n",
        "    xor_number = xor_number ^ i\n",
        "  return xor_number\n"
      ],
      "metadata": {
        "id": "1SYChkaanjyU"
      },
      "execution_count": 18,
      "outputs": []
    },
    {
      "cell_type": "code",
      "source": [
        "findDuplicate([6,1,2,3,1,4,5])"
      ],
      "metadata": {
        "colab": {
          "base_uri": "https://localhost:8080/"
        },
        "id": "TJ1oY5IQsX6U",
        "outputId": "f032c77b-9753-4881-f574-ba32932a574f"
      },
      "execution_count": 19,
      "outputs": [
        {
          "output_type": "stream",
          "name": "stdout",
          "text": [
            "6\n"
          ]
        },
        {
          "output_type": "execute_result",
          "data": {
            "text/plain": [
              "1"
            ]
          },
          "metadata": {},
          "execution_count": 19
        }
      ]
    },
    {
      "cell_type": "markdown",
      "source": [
        "Q.14 **Find maximum length of sub array having given sum**\n"
      ],
      "metadata": {
        "id": "rjdhH_9Ktvgc"
      }
    },
    {
      "cell_type": "code",
      "source": [
        ""
      ],
      "metadata": {
        "id": "23HbXSPqsbVE"
      },
      "execution_count": null,
      "outputs": []
    }
  ]
}