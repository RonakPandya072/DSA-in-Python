{
  "nbformat": 4,
  "nbformat_minor": 0,
  "metadata": {
    "colab": {
      "name": "Linked list.ipynb",
      "provenance": [],
      "authorship_tag": "ABX9TyMNt9fqh0cuHJDbb4pEVS2f",
      "include_colab_link": true
    },
    "kernelspec": {
      "name": "python3",
      "display_name": "Python 3"
    },
    "language_info": {
      "name": "python"
    }
  },
  "cells": [
    {
      "cell_type": "markdown",
      "metadata": {
        "id": "view-in-github",
        "colab_type": "text"
      },
      "source": [
        "<a href=\"https://colab.research.google.com/github/RonakPandya072/DSA-in-Python/blob/main/Linked-list/Linked_list.ipynb\" target=\"_parent\"><img src=\"https://colab.research.google.com/assets/colab-badge.svg\" alt=\"Open In Colab\"/></a>"
      ]
    },
    {
      "cell_type": "code",
      "source": [
        "class Node:\n",
        "  def __init__(self,data):\n",
        "    self.data = data\n",
        "    self.next = None\n",
        "\n",
        "def Print(head):\n",
        "  temp = head\n",
        "  while temp:\n",
        "    print(temp.data,end=\"-->\")\n",
        "    temp = temp.next"
      ],
      "metadata": {
        "id": "vcxiYoAaems2"
      },
      "execution_count": 18,
      "outputs": []
    },
    {
      "cell_type": "markdown",
      "source": [
        "Q.1 **Remove duplicate from the linked list**"
      ],
      "metadata": {
        "id": "7S1cIsfZeffp"
      }
    },
    {
      "cell_type": "code",
      "source": [
        "def RemoveDuplicate(head):\n",
        "  current = head\n",
        "  while current.next:\n",
        "    if current.data == current.next.data:\n",
        "      #print(f\"before{current.data}\")\n",
        "      nexttonext = current.next.next\n",
        "      current.next = nexttonext\n",
        "      #print(f\"after{current.data}\")\n",
        "    else:\n",
        "      current = current.next\n",
        "  return head"
      ],
      "metadata": {
        "id": "cl1g9h5KhIgx"
      },
      "execution_count": 24,
      "outputs": []
    },
    {
      "cell_type": "code",
      "source": [
        "var1 = Node(1)\n",
        "var2 = Node(2)\n",
        "var3 = Node(2)\n",
        "var4 = Node(2)\n",
        "var5 = Node(3)\n",
        "var1.next = var2\n",
        "var2.next = var3\n",
        "var3.next = var4\n",
        "var4.next = var5\n",
        "head = var1\n",
        "RemoveDuplicate(head)\n",
        "Print(head)"
      ],
      "metadata": {
        "colab": {
          "base_uri": "https://localhost:8080/"
        },
        "id": "47oxzXbFfygH",
        "outputId": "2564b46a-60d1-42c0-9473-61f5d25bacf9"
      },
      "execution_count": 25,
      "outputs": [
        {
          "output_type": "stream",
          "name": "stdout",
          "text": [
            "1-->2-->3-->"
          ]
        }
      ]
    },
    {
      "cell_type": "markdown",
      "source": [
        "Q.2 **Split given linked list into two lists where each list containing alternating elements from it**"
      ],
      "metadata": {
        "id": "Bmn9a9eJkjSN"
      }
    },
    {
      "cell_type": "code",
      "source": [
        "def splitlist(head):\n",
        "  count = 0\n",
        "  A = B = None\n",
        "  temp = head\n",
        "  firsttimeA = firsttimeB = 1\n",
        "  while temp:\n",
        "    if count%2 == 0:\n",
        "      if firsttimeA == 1:\n",
        "        firsttimeA = 0\n",
        "        A = temp\n",
        "        tempA = A\n",
        "      else:\n",
        "        tempA.next = temp\n",
        "        tempA = temp\n",
        "    else:\n",
        "      if firsttimeB == 1:\n",
        "        firsttimeB=0\n",
        "        B = temp\n",
        "        tempB = B\n",
        "      else:\n",
        "        tempB.next = temp\n",
        "        tempB = temp\n",
        "      print(temp.data)\n",
        "    temp = temp.next\n",
        "    count+=1\n",
        "\n",
        "  return (A,B)"
      ],
      "metadata": {
        "id": "NIAZ-7opkhyu"
      },
      "execution_count": 75,
      "outputs": []
    },
    {
      "cell_type": "code",
      "source": [
        "var1 = Node(1)\n",
        "var2 = Node(2)\n",
        "var3 = Node(3)\n",
        "var4 = Node(4)\n",
        "var5 = Node(5)\n",
        "var1.next = var2\n",
        "var2.next = var3\n",
        "var3.next = var4\n",
        "var4.next = var5\n",
        "head = var1\n",
        "Print(splitlist(head)[1])"
      ],
      "metadata": {
        "colab": {
          "base_uri": "https://localhost:8080/"
        },
        "id": "WSnbnatVgN9R",
        "outputId": "ab05fd04-3abc-433d-8333-037d7a8f0056"
      },
      "execution_count": 76,
      "outputs": [
        {
          "output_type": "stream",
          "name": "stdout",
          "text": [
            "2\n",
            "4\n",
            "2-->4-->5-->"
          ]
        }
      ]
    },
    {
      "cell_type": "code",
      "source": [
        ""
      ],
      "metadata": {
        "id": "3ycNcoX2mNVt"
      },
      "execution_count": null,
      "outputs": []
    }
  ]
}